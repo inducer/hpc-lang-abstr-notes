{
 "cells": [
  {
   "cell_type": "markdown",
   "metadata": {},
   "source": [
    "# Ways to SIMD"
   ]
  },
  {
   "cell_type": "code",
   "execution_count": 122,
   "metadata": {},
   "outputs": [],
   "source": [
    "!rm -Rf tmp\n",
    "!mkdir -p tmp"
   ]
  },
  {
   "cell_type": "markdown",
   "metadata": {},
   "source": [
    "## Inline Assembly"
   ]
  },
  {
   "cell_type": "markdown",
   "metadata": {},
   "source": [
    "* [Documentation](https://gcc.gnu.org/onlinedocs/gcc/Extended-Asm.html)\n",
    "* [Source for \"x\" register constraint for vector registers](https://stackoverflow.com/a/32667983)"
   ]
  },
  {
   "cell_type": "code",
   "execution_count": 5,
   "metadata": {},
   "outputs": [
    {
     "name": "stdout",
     "output_type": "stream",
     "text": [
      "Overwriting tmp/inline-assembly.c\n"
     ]
    }
   ],
   "source": [
    "%%writefile tmp/inline-assembly.c\n",
    "\n",
    "#include <x86intrin.h>\n",
    "#include <stdio.h>\n",
    "\n",
    "int main()\n",
    "{\n",
    "    float a[8] = {0, 1, 2, 3, 4, 5, 6, 7};\n",
    "    float b[8] = {7, 6, 5, 4, 3, 2, 1, 0};\n",
    "    float result[8];\n",
    "\n",
    "    __m256 avec = _mm256_loadu_ps(a);\n",
    "    __m256 bvec = _mm256_loadu_ps(b);\n",
    "    __m256 resultvec;\n",
    "    \n",
    "    asm (\"vaddps %1, %2, %0\"\n",
    "        : \"=x\" (resultvec)\n",
    "        : \"x\" (avec), \"x\" (bvec) /* \"r\" for normal registers, \"x\"\n",
    "        : /* clobbers */\n",
    "        );\n",
    "    \n",
    "    _mm256_storeu_ps(result, resultvec);\n",
    "    \n",
    "    for (int i = 0; i < 8; ++i)\n",
    "        printf(\"%f \", result[i]);\n",
    "    printf(\"\\n\");\n",
    "}"
   ]
  },
  {
   "cell_type": "code",
   "execution_count": 6,
   "metadata": {},
   "outputs": [
    {
     "name": "stdout",
     "output_type": "stream",
     "text": [
      "\n",
      "tmp/inline-assembly.o:     file format elf64-x86-64\n",
      "\n",
      "\n",
      "Disassembly of section .text:\n",
      "\n",
      "0000000000000000 <main>:\n",
      "   0:\t4c 8d 54 24 08       \tlea    0x8(%rsp),%r10\n",
      "   5:\t48 83 e4 e0          \tand    $0xffffffffffffffe0,%rsp\n",
      "   9:\t41 ff 72 f8          \tpushq  -0x8(%r10)\n",
      "   d:\t55                   \tpush   %rbp\n",
      "   e:\t48 89 e5             \tmov    %rsp,%rbp\n",
      "  11:\t41 55                \tpush   %r13\n",
      "  13:\t41 54                \tpush   %r12\n",
      "  15:\t41 52                \tpush   %r10\n",
      "  17:\t53                   \tpush   %rbx\n",
      "  18:\t48 83 ec 70          \tsub    $0x70,%rsp\n",
      "  1c:\tc7 45 b0 00 00 00 00 \tmovl   $0x0,-0x50(%rbp)\n",
      "  23:\tc5 fa 10 05 00 00 00 \tvmovss 0x0(%rip),%xmm0        # 2b <main+0x2b>\n",
      "  2a:\t00 \n",
      "  2b:\tc5 fa 11 45 b4       \tvmovss %xmm0,-0x4c(%rbp)\n",
      "  30:\tc5 fa 10 0d 00 00 00 \tvmovss 0x0(%rip),%xmm1        # 38 <main+0x38>\n",
      "  37:\t00 \n",
      "  38:\tc5 fa 11 4d b8       \tvmovss %xmm1,-0x48(%rbp)\n",
      "  3d:\tc5 fa 10 15 00 00 00 \tvmovss 0x0(%rip),%xmm2        # 45 <main+0x45>\n",
      "  44:\t00 \n",
      "  45:\tc5 fa 11 55 bc       \tvmovss %xmm2,-0x44(%rbp)\n",
      "  4a:\tc5 fa 10 1d 00 00 00 \tvmovss 0x0(%rip),%xmm3        # 52 <main+0x52>\n",
      "  51:\t00 \n",
      "  52:\tc5 fa 11 5d c0       \tvmovss %xmm3,-0x40(%rbp)\n",
      "  57:\tc5 fa 10 25 00 00 00 \tvmovss 0x0(%rip),%xmm4        # 5f <main+0x5f>\n",
      "  5e:\t00 \n",
      "  5f:\tc5 fa 11 65 c4       \tvmovss %xmm4,-0x3c(%rbp)\n",
      "  64:\tc5 fa 10 2d 00 00 00 \tvmovss 0x0(%rip),%xmm5        # 6c <main+0x6c>\n",
      "  6b:\t00 \n",
      "  6c:\tc5 fa 11 6d c8       \tvmovss %xmm5,-0x38(%rbp)\n",
      "  71:\tc5 fa 10 35 00 00 00 \tvmovss 0x0(%rip),%xmm6        # 79 <main+0x79>\n",
      "  78:\t00 \n",
      "  79:\tc5 fa 11 75 cc       \tvmovss %xmm6,-0x34(%rbp)\n",
      "  7e:\tc5 fa 11 75 90       \tvmovss %xmm6,-0x70(%rbp)\n",
      "  83:\tc5 fa 11 6d 94       \tvmovss %xmm5,-0x6c(%rbp)\n",
      "  88:\tc5 fa 11 65 98       \tvmovss %xmm4,-0x68(%rbp)\n",
      "  8d:\tc5 fa 11 5d 9c       \tvmovss %xmm3,-0x64(%rbp)\n",
      "  92:\tc5 fa 11 55 a0       \tvmovss %xmm2,-0x60(%rbp)\n",
      "  97:\tc5 fa 11 4d a4       \tvmovss %xmm1,-0x5c(%rbp)\n",
      "  9c:\tc5 fa 11 45 a8       \tvmovss %xmm0,-0x58(%rbp)\n",
      "  a1:\tc7 45 ac 00 00 00 00 \tmovl   $0x0,-0x54(%rbp)\n",
      "  a8:\tc5 fc 28 7d b0       \tvmovaps -0x50(%rbp),%ymm7\n",
      "  ad:\tc5 fc 28 4d 90       \tvmovaps -0x70(%rbp),%ymm1\n",
      "  b2:\tc5 f4 58 c7          \tvaddps %ymm7,%ymm1,%ymm0\n",
      "  b6:\tc5 fc 29 85 70 ff ff \tvmovaps %ymm0,-0x90(%rbp)\n",
      "  bd:\tff \n",
      "  be:\t48 8d 9d 70 ff ff ff \tlea    -0x90(%rbp),%rbx\n",
      "  c5:\t4c 8d 6b 20          \tlea    0x20(%rbx),%r13\n",
      "  c9:\t4c 8d 25 00 00 00 00 \tlea    0x0(%rip),%r12        # d0 <main+0xd0>\n",
      "  d0:\tc5 f9 57 c0          \tvxorpd %xmm0,%xmm0,%xmm0\n",
      "  d4:\tc5 fa 5a 03          \tvcvtss2sd (%rbx),%xmm0,%xmm0\n",
      "  d8:\t4c 89 e7             \tmov    %r12,%rdi\n",
      "  db:\tb8 01 00 00 00       \tmov    $0x1,%eax\n",
      "  e0:\te8 00 00 00 00       \tcallq  e5 <main+0xe5>\n",
      "  e5:\t48 83 c3 04          \tadd    $0x4,%rbx\n",
      "  e9:\t4c 39 eb             \tcmp    %r13,%rbx\n",
      "  ec:\t75 e2                \tjne    d0 <main+0xd0>\n",
      "  ee:\tbf 0a 00 00 00       \tmov    $0xa,%edi\n",
      "  f3:\te8 00 00 00 00       \tcallq  f8 <main+0xf8>\n",
      "  f8:\tb8 00 00 00 00       \tmov    $0x0,%eax\n",
      "  fd:\t48 83 c4 70          \tadd    $0x70,%rsp\n",
      " 101:\t5b                   \tpop    %rbx\n",
      " 102:\t41 5a                \tpop    %r10\n",
      " 104:\t41 5c                \tpop    %r12\n",
      " 106:\t41 5d                \tpop    %r13\n",
      " 108:\t5d                   \tpop    %rbp\n",
      " 109:\t49 8d 62 f8          \tlea    -0x8(%r10),%rsp\n",
      " 10d:\tc3                   \tretq   \n"
     ]
    }
   ],
   "source": [
    "!cd tmp; gcc -march=sandybridge -c -O inline-assembly.c\n",
    "!objdump --disassemble tmp/inline-assembly.o"
   ]
  },
  {
   "cell_type": "markdown",
   "metadata": {},
   "source": [
    "## Intrinsics"
   ]
  },
  {
   "cell_type": "code",
   "execution_count": 125,
   "metadata": {},
   "outputs": [
    {
     "name": "stdout",
     "output_type": "stream",
     "text": [
      "Writing tmp/intrinsics.c\n"
     ]
    }
   ],
   "source": [
    "%%writefile tmp/intrinsics.c\n",
    "\n",
    "#include <x86intrin.h>\n",
    "#include <stdio.h>\n",
    "\n",
    "int main()\n",
    "{\n",
    "    float a[8] = {0, 1, 2, 3, 4, 5, 6, 7};\n",
    "    float b[8] = {7, 6, 5, 4, 3, 2, 1, 0};\n",
    "    float result[8];\n",
    "\n",
    "    __m256 avec = _mm256_loadu_ps(a);\n",
    "    __m256 bvec = _mm256_loadu_ps(b);\n",
    "    __m256 resultvec = _mm256_add_ps(avec, bvec);    \n",
    "    _mm256_storeu_ps(result, resultvec);\n",
    "    \n",
    "    for (int i = 0; i < 8; ++i)\n",
    "        printf(\"%f \", result[i]);\n",
    "    printf(\"\\n\");\n",
    "}"
   ]
  },
  {
   "cell_type": "code",
   "execution_count": 126,
   "metadata": {},
   "outputs": [
    {
     "name": "stdout",
     "output_type": "stream",
     "text": [
      "7.000000 7.000000 7.000000 7.000000 7.000000 7.000000 7.000000 7.000000 \n"
     ]
    }
   ],
   "source": [
    "!cd tmp; gcc -march=sandybridge -O intrinsics.c -ointrinsics\n",
    "!./tmp/intrinsics"
   ]
  },
  {
   "cell_type": "markdown",
   "metadata": {},
   "source": [
    "## Vector types"
   ]
  },
  {
   "cell_type": "code",
   "execution_count": 129,
   "metadata": {},
   "outputs": [
    {
     "name": "stdout",
     "output_type": "stream",
     "text": [
      "Overwriting tmp/vector-types.c\n"
     ]
    }
   ],
   "source": [
    "%%writefile tmp/vector-types.c\n",
    "\n",
    "#include <stdio.h>\n",
    "\n",
    "int main()\n",
    "{\n",
    "    typedef float v8f __attribute__ ((vector_size (256/8)));\n",
    "    v8f a = {0, 1, 2, 3, 4, 5, 6, 7};\n",
    "    v8f b = {7, 6, 5, 4, 3, 2, 1, 0};\n",
    "\n",
    "    v8f result = a+b+5;\n",
    "    \n",
    "    for (int i = 0; i < 8; ++i)\n",
    "        printf(\"%f \", result[i]);\n",
    "    printf(\"\\n\");\n",
    "}"
   ]
  },
  {
   "cell_type": "code",
   "execution_count": 130,
   "metadata": {},
   "outputs": [
    {
     "name": "stdout",
     "output_type": "stream",
     "text": [
      "12.000000 12.000000 12.000000 12.000000 12.000000 12.000000 12.000000 12.000000 \n"
     ]
    }
   ],
   "source": [
    "!cd tmp; gcc -march=sandybridge -O vector-types.c -ovector-types\n",
    "!./tmp/vector-types"
   ]
  },
  {
   "cell_type": "code",
   "execution_count": 131,
   "metadata": {},
   "outputs": [
    {
     "name": "stdout",
     "output_type": "stream",
     "text": [
      "Overwriting tmp/vector-types.c\n"
     ]
    }
   ],
   "source": [
    "%%writefile tmp/vector-types.c\n",
    "\n",
    "#include <stdio.h>\n",
    "\n",
    "typedef float v8f __attribute__ ((vector_size (256/8)));\n",
    "\n",
    "v8f add_vecs(v8f a, v8f b)\n",
    "{\n",
    "    return a+b+5;\n",
    "}"
   ]
  },
  {
   "cell_type": "code",
   "execution_count": 132,
   "metadata": {},
   "outputs": [
    {
     "name": "stdout",
     "output_type": "stream",
     "text": [
      "\n",
      "tmp/vector-types.o:     file format elf64-x86-64\n",
      "\n",
      "\n",
      "Disassembly of section .text:\n",
      "\n",
      "0000000000000000 <add_vecs>:\n",
      "   0:\tc5 fc 58 c1          \tvaddps %ymm1,%ymm0,%ymm0\n",
      "   4:\tc5 fc 58 05 00 00 00 \tvaddps 0x0(%rip),%ymm0,%ymm0        # c <add_vecs+0xc>\n",
      "   b:\t00 \n",
      "   c:\tc3                   \tretq   \n"
     ]
    }
   ],
   "source": [
    "!cd tmp; gcc -march=sandybridge -O -c vector-types.c\n",
    "! objdump --disassemble tmp/vector-types.o"
   ]
  },
  {
   "cell_type": "markdown",
   "metadata": {},
   "source": [
    "### One-argument shuffle"
   ]
  },
  {
   "cell_type": "code",
   "execution_count": 1,
   "metadata": {},
   "outputs": [
    {
     "name": "stdout",
     "output_type": "stream",
     "text": [
      "Overwriting tmp/vector-types.c\n"
     ]
    }
   ],
   "source": [
    "%%writefile tmp/vector-types.c\n",
    "\n",
    "#include <stdio.h>\n",
    "\n",
    "typedef float v8f __attribute__ ((vector_size (256/8)));\n",
    "typedef int v8i __attribute__ ((vector_size (256/8)));\n",
    "\n",
    "v8f reverse_vec(v8f a)\n",
    "{\n",
    "    //const v8i idx = {7, 6, 5, 4, 3, 2, 1, 0};\n",
    "    const v8i idx = {3, 2, 1, 0, 7, 6, 5, 4};\n",
    "    return __builtin_shuffle(a, idx);\n",
    "}"
   ]
  },
  {
   "cell_type": "code",
   "execution_count": 2,
   "metadata": {},
   "outputs": [
    {
     "name": "stdout",
     "output_type": "stream",
     "text": [
      "\n",
      "tmp/vector-types.o:     file format elf64-x86-64\n",
      "\n",
      "\n",
      "Disassembly of section .text:\n",
      "\n",
      "0000000000000000 <reverse_vec>:\n",
      "   0:\tc4 e3 7d 04 c0 1b    \tvpermilps $0x1b,%ymm0,%ymm0\n",
      "   6:\tc3                   \tret\n"
     ]
    }
   ],
   "source": [
    "!cd tmp; gcc -march=sandybridge -O -c vector-types.c\n",
    "! objdump --disassemble tmp/vector-types.o"
   ]
  },
  {
   "cell_type": "markdown",
   "metadata": {},
   "source": [
    "### Two-argument shuffle"
   ]
  },
  {
   "cell_type": "code",
   "execution_count": 14,
   "metadata": {},
   "outputs": [
    {
     "name": "stdout",
     "output_type": "stream",
     "text": [
      "Overwriting tmp/vector-types.c\n"
     ]
    }
   ],
   "source": [
    "%%writefile tmp/vector-types.c\n",
    "\n",
    "#include <stdio.h>\n",
    "\n",
    "typedef float v8f __attribute__ ((vector_size (256/8)));\n",
    "typedef int v8i __attribute__ ((vector_size (256/8)));\n",
    "\n",
    "v8f interleave(v8f a, v8f b)\n",
    "{\n",
    "    // one-argument\n",
    "    //const v8i idx = {0,1,2,3,4,5,6,7};\n",
    "    //const v8i idx = {1,2,3,4,5,6,7,0};\n",
    "    \n",
    "    // two-argument\n",
    "    const v8i idx = {2,2+8,3,3+8,6,6+8,7,7+8};\n",
    "    return __builtin_shuffle(a, b, idx);\n",
    "}"
   ]
  },
  {
   "cell_type": "code",
   "execution_count": 15,
   "metadata": {},
   "outputs": [
    {
     "name": "stdout",
     "output_type": "stream",
     "text": [
      "\n",
      "tmp/vector-types.o:     file format elf64-x86-64\n",
      "\n",
      "\n",
      "Disassembly of section .text:\n",
      "\n",
      "0000000000000000 <interleave>:\n",
      "   0:\tc5 fc 15 c1          \tvunpckhps %ymm1,%ymm0,%ymm0\n",
      "   4:\tc3                   \tret\n"
     ]
    }
   ],
   "source": [
    "!cd tmp; gcc -march=sandybridge -O -c vector-types.c\n",
    "! objdump --disassemble tmp/vector-types.o"
   ]
  },
  {
   "cell_type": "markdown",
   "metadata": {},
   "source": [
    "## #pragma simd"
   ]
  },
  {
   "cell_type": "code",
   "execution_count": 137,
   "metadata": {},
   "outputs": [
    {
     "name": "stdout",
     "output_type": "stream",
     "text": [
      "Writing tmp/pragma-simd.c\n"
     ]
    }
   ],
   "source": [
    "%%writefile tmp/pragma-simd.c\n",
    "\n",
    "#include <stdio.h>\n",
    "\n",
    "typedef float vec_t[8];\n",
    "\n",
    "void add_them(vec_t a, vec_t b, vec_t result)\n",
    "{\n",
    "    #pragma GCC ivdep\n",
    "    // #pragma omp simd\n",
    "    // #pragma omp simd aligned(a, b, result:32)\n",
    "    for (int i = 0; i<8; ++i)\n",
    "        result[i] = a[i] + b[i];\n",
    "}"
   ]
  },
  {
   "cell_type": "code",
   "execution_count": 138,
   "metadata": {},
   "outputs": [
    {
     "name": "stdout",
     "output_type": "stream",
     "text": [
      "\n",
      "tmp/pragma-simd.o:     file format elf64-x86-64\n",
      "\n",
      "\n",
      "Disassembly of section .text:\n",
      "\n",
      "0000000000000000 <add_them>:\n",
      "   0:\tb8 00 00 00 00       \tmov    $0x0,%eax\n",
      "   5:\tc5 fa 10 04 07       \tvmovss (%rdi,%rax,1),%xmm0\n",
      "   a:\tc5 fa 58 04 06       \tvaddss (%rsi,%rax,1),%xmm0,%xmm0\n",
      "   f:\tc5 fa 11 04 02       \tvmovss %xmm0,(%rdx,%rax,1)\n",
      "  14:\t48 83 c0 04          \tadd    $0x4,%rax\n",
      "  18:\t48 83 f8 20          \tcmp    $0x20,%rax\n",
      "  1c:\t75 e7                \tjne    5 <add_them+0x5>\n",
      "  1e:\tc3                   \tretq   \n"
     ]
    }
   ],
   "source": [
    "!cd tmp; gcc -march=sandybridge -fopenmp -O -c pragma-simd.c\n",
    "#!cd tmp; gcc -march=sandybridge -fopenmp -O3 -c pragma-simd.c\n",
    "\n",
    "!objdump --disassemble tmp/pragma-simd.o"
   ]
  },
  {
   "cell_type": "markdown",
   "metadata": {},
   "source": [
    "Semantics (openMP 4.5, 2.8.1):\n",
    "\n",
    "> The `simd` construct enables the execution of multiple iterations of the associated loops\n",
    "concurrently by means of SIMD instructions.\n",
    "\n",
    "\n",
    "> A SIMD loop has logical iterations numbered 0,1,...,N-1 where N is the number of loop iterations,\n",
    "> and the logical numbering denotes the sequence in which the iterations would be executed if the\n",
    "> associated loop(s) were executed with no SIMD instructions. If the `safelen` clause is used then\n",
    "> no two iterations executed concurrently with SIMD instructions can have a greater distance in the\n",
    "> logical iteration space than its value. The parameter of the safelen clause must be a constant\n",
    "> positive integer expression. If used, the simdlen clause specifies the preferred number of\n",
    "> iterations to be executed concurrently.\n",
    "\n",
    "* What does `safelen(12)` mean?\n",
    "\n",
    "> The parameter of the `simdlen` clause must be a constant\n",
    "> positive integer. The number of iterations that are executed concurrently at any given time is\n",
    "> implementation defined. Each concurrent iteration will be executed by a different SIMD lane. Each\n",
    "> set of concurrent iterations is a SIMD chunk. Lexical forward dependencies in the iterations of the\n",
    "> original loop must be preserved within each SIMD chunk.\n",
    " \n",
    "* What does `simdlen(16)` mean?\n",
    "* How do `safelen` and `simdlen` relate to each other"
   ]
  },
  {
   "cell_type": "markdown",
   "metadata": {},
   "source": [
    "Also:\n",
    "    \n",
    "* `#pragma omp declare simd` on *functions*\n",
    "* with `inbranch`, `notinbranch`"
   ]
  },
  {
   "cell_type": "markdown",
   "metadata": {},
   "source": [
    "## Scalar Program Instances"
   ]
  },
  {
   "cell_type": "code",
   "execution_count": 120,
   "metadata": {},
   "outputs": [
    {
     "name": "stdout",
     "output_type": "stream",
     "text": [
      "Overwriting tmp/scalar-program-instances.ispc\n"
     ]
    }
   ],
   "source": [
    "%%writefile tmp/scalar-program-instances.ispc\n",
    "\n",
    "float add_them(float a, float b)\n",
    "{\n",
    "    return a + b;\n",
    "}"
   ]
  },
  {
   "cell_type": "code",
   "execution_count": 121,
   "metadata": {},
   "outputs": [
    {
     "name": "stdout",
     "output_type": "stream",
     "text": [
      "\n",
      "tmp/scalar-program-instances.o:     file format elf64-x86-64\n",
      "\n",
      "\n",
      "Disassembly of section .text:\n",
      "\n",
      "0000000000000000 <add_them___vyfvyf>:\n",
      "   0:\tc5 fc 58 c1          \tvaddps %ymm1,%ymm0,%ymm0\n",
      "   4:\tc3                   \tretq   \n"
     ]
    }
   ],
   "source": [
    "!cd tmp; ~/pack/ispc-v1.9.0-linux/ispc  \\\n",
    "    --target=avx2-i32x8 \\\n",
    "    --opt=force-aligned-memory \\\n",
    "    scalar-program-instances.ispc \\\n",
    "    -o scalar-program-instances.o\n",
    "! objdump --disassemble tmp/scalar-program-instances.o"
   ]
  },
  {
   "cell_type": "markdown",
   "metadata": {},
   "source": [
    "*  `uniform` and `varying`\n",
    "*  `programCount` and `programIndex`\n",
    "*  `x16` targets... why?\n",
    "*  How do you think shuffles are done?\n",
    "*  Compare this with `omp declare simd`, including `uniform`."
   ]
  },
  {
   "cell_type": "code",
   "execution_count": null,
   "metadata": {},
   "outputs": [],
   "source": []
  }
 ],
 "metadata": {
  "kernelspec": {
   "display_name": "Python 3 (ipykernel)",
   "language": "python",
   "name": "python3"
  },
  "language_info": {
   "codemirror_mode": {
    "name": "ipython",
    "version": 3
   },
   "file_extension": ".py",
   "mimetype": "text/x-python",
   "name": "python",
   "nbconvert_exporter": "python",
   "pygments_lexer": "ipython3",
   "version": "3.13.2"
  }
 },
 "nbformat": 4,
 "nbformat_minor": 4
}
