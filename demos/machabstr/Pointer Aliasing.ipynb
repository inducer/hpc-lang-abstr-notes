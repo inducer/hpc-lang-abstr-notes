{
 "cells": [
  {
   "cell_type": "markdown",
   "metadata": {},
   "source": [
    "# Pointer Aliasing"
   ]
  },
  {
   "cell_type": "code",
   "execution_count": 20,
   "metadata": {},
   "outputs": [],
   "source": [
    "!rm -Rf tmp\n",
    "!mkdir -p tmp"
   ]
  },
  {
   "cell_type": "code",
   "execution_count": 21,
   "metadata": {},
   "outputs": [
    {
     "name": "stdout",
     "output_type": "stream",
     "text": [
      "Writing tmp/alias.c\n"
     ]
    }
   ],
   "source": [
    "%%writefile tmp/alias.c\n",
    "void copy_twice(float * a, float * b, int n)\n",
    "{\n",
    "  for (int i = 0; i < n; ++i)\n",
    "  {\n",
    "    b[2*i] = 2*a[i];\n",
    "    b[2*i+1] = 2*a[i];\n",
    "  }\n",
    "\n",
    "}"
   ]
  },
  {
   "cell_type": "code",
   "execution_count": 22,
   "metadata": {},
   "outputs": [
    {
     "name": "stdout",
     "output_type": "stream",
     "text": [
      "\n",
      "tmp/alias.o:     file format elf64-x86-64\n",
      "\n",
      "\n",
      "Disassembly of section .text:\n",
      "\n",
      "0000000000000000 <copy_twice>:\n",
      "   0:\t85 d2                \ttest   %edx,%edx\n",
      "   2:\t7e 33                \tjle    37 <copy_twice+0x37>\n",
      "   4:\t8d 4a ff             \tlea    -0x1(%rdx),%ecx\n",
      "   7:\tb8 00 00 00 00       \tmov    $0x0,%eax\n",
      "   c:\teb 03                \tjmp    11 <copy_twice+0x11>\n",
      "   e:\t48 89 d0             \tmov    %rdx,%rax\n",
      "  11:\tf3 0f 10 04 87       \tmovss  (%rdi,%rax,4),%xmm0\n",
      "  16:\tf3 0f 58 c0          \taddss  %xmm0,%xmm0\n",
      "  1a:\tf3 0f 11 04 c6       \tmovss  %xmm0,(%rsi,%rax,8)\n",
      "  1f:\tf3 0f 10 04 87       \tmovss  (%rdi,%rax,4),%xmm0\n",
      "  24:\tf3 0f 58 c0          \taddss  %xmm0,%xmm0\n",
      "  28:\tf3 0f 11 44 c6 04    \tmovss  %xmm0,0x4(%rsi,%rax,8)\n",
      "  2e:\t48 8d 50 01          \tlea    0x1(%rax),%rdx\n",
      "  32:\t48 39 c8             \tcmp    %rcx,%rax\n",
      "  35:\t75 d7                \tjne    e <copy_twice+0xe>\n",
      "  37:\tc3                   \tretq   \n"
     ]
    }
   ],
   "source": [
    "!cd tmp; gcc -c -O alias.c\n",
    "!objdump --disassemble tmp/alias.o"
   ]
  },
  {
   "cell_type": "markdown",
   "metadata": {},
   "source": [
    "* How can we prevent the value from `a` from being reloaded?\n",
    "* What happens without the `2*`?"
   ]
  }
 ],
 "metadata": {
  "kernelspec": {
   "display_name": "Python 3",
   "language": "python",
   "name": "python3"
  },
  "language_info": {
   "codemirror_mode": {
    "name": "ipython",
    "version": 3
   },
   "file_extension": ".py",
   "mimetype": "text/x-python",
   "name": "python",
   "nbconvert_exporter": "python",
   "pygments_lexer": "ipython3",
   "version": "3.6.6"
  }
 },
 "nbformat": 4,
 "nbformat_minor": 2
}
