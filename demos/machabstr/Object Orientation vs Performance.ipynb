{
 "cells": [
  {
   "cell_type": "markdown",
   "metadata": {},
   "source": [
    "# Object Orientation vs. Performance"
   ]
  },
  {
   "cell_type": "code",
   "execution_count": 94,
   "metadata": {},
   "outputs": [],
   "source": [
    "!rm -Rf tmp\n",
    "!mkdir -p tmp"
   ]
  },
  {
   "cell_type": "markdown",
   "metadata": {},
   "source": [
    "## Copies, Copies Everywhere"
   ]
  },
  {
   "cell_type": "code",
   "execution_count": 95,
   "metadata": {},
   "outputs": [
    {
     "name": "stdout",
     "output_type": "stream",
     "text": [
      "Writing tmp/array.cpp\n"
     ]
    }
   ],
   "source": [
    "%%writefile tmp/array.cpp\n",
    "\n",
    "#include <iostream>\n",
    "\n",
    "class array_t {\n",
    "        float m_value;\n",
    "    \n",
    "    public:\n",
    "        array_t(float value)\n",
    "        : m_value(value)\n",
    "        { std::cerr << \"constructor\" << std::endl; }\n",
    "    \n",
    "        array_t(const array_t &src)\n",
    "        : m_value(src.m_value)\n",
    "        { std::cerr << \"copy constructor\" << std::endl; }\n",
    "\n",
    "        array_t operator+(array_t const &op2)\n",
    "        { return array_t(m_value+op2.m_value); }\n",
    "\n",
    "        array_t operator*(array_t const &op2)\n",
    "        { return array_t(m_value*op2.m_value); }\n",
    "};\n",
    "\n",
    "int main()\n",
    "{\n",
    "    array_t x(5);\n",
    "    array_t y(6);\n",
    "    array_t z(7);\n",
    "    \n",
    "    std::cerr << \"begin expression\" << std::endl;\n",
    "    array_t result(x+y*z+x*x);\n",
    "}"
   ]
  },
  {
   "cell_type": "markdown",
   "metadata": {},
   "source": [
    "* What does this print after `begin expression`?\n",
    "* Now disable `-fno-elide-constructors` and/or use C++17 (where [URVO](https://en.cppreference.com/w/cpp/language/copy_elision) became mandatory).\n",
    "* Is this (naively) legal, i.e. is the obervable behavior the same as if there were no optimization?\n",
    "* What can wreck RVO?"
   ]
  },
  {
   "cell_type": "code",
   "execution_count": 7,
   "metadata": {},
   "outputs": [
    {
     "name": "stdout",
     "output_type": "stream",
     "text": [
      "constructor\n",
      "constructor\n",
      "constructor\n",
      "begin expression\n",
      "constructor\n",
      "copy constructor\n",
      "constructor\n",
      "copy constructor\n",
      "constructor\n",
      "copy constructor\n",
      "constructor\n",
      "copy constructor\n",
      "copy constructor\n"
     ]
    }
   ],
   "source": [
    "!cd tmp; g++ -std=c++11 -O array.cpp -oarray -fno-elide-constructors\n",
    "!tmp/array"
   ]
  },
  {
   "cell_type": "markdown",
   "metadata": {},
   "source": [
    "## Move Semantics"
   ]
  },
  {
   "cell_type": "code",
   "execution_count": 8,
   "metadata": {},
   "outputs": [
    {
     "name": "stdout",
     "output_type": "stream",
     "text": [
      "Overwriting tmp/move.cpp\n"
     ]
    }
   ],
   "source": [
    "%%writefile tmp/move.cpp\n",
    "\n",
    "#include <string>\n",
    "#include <iostream>\n",
    "\n",
    "\n",
    "struct A\n",
    "{\n",
    "    std::string s;\n",
    "    A() : s(\"test\") { std::cout << \"constructed\\n\"; }\n",
    "    A(const A& o) : s(o.s) { std::cout << \"copied\\n\"; }\n",
    "    A(A&& o) noexcept : s(std::move(o.s)) { std::cerr << \"moved\" << std::endl; }\n",
    "};\n",
    " \n",
    "A f(A a)\n",
    "{\n",
    "    return a;\n",
    "}\n",
    " \n",
    "int main()\n",
    "{\n",
    "    A a1 = f(A());\n",
    "    A a2 = std::move(a1);\n",
    "}"
   ]
  },
  {
   "cell_type": "code",
   "execution_count": 9,
   "metadata": {},
   "outputs": [
    {
     "name": "stdout",
     "output_type": "stream",
     "text": [
      "constructed\n",
      "moved\n",
      "moved\n"
     ]
    }
   ],
   "source": [
    "!cd tmp; g++ -O move.cpp -omove\n",
    "!tmp/move"
   ]
  },
  {
   "cell_type": "markdown",
   "metadata": {},
   "source": [
    "* What does this print?\n",
    "* How does return value optimization factor into this?"
   ]
  },
  {
   "cell_type": "code",
   "execution_count": null,
   "metadata": {},
   "outputs": [],
   "source": []
  }
 ],
 "metadata": {
  "kernelspec": {
   "display_name": "Python 3 (ipykernel)",
   "language": "python",
   "name": "python3"
  },
  "language_info": {
   "codemirror_mode": {
    "name": "ipython",
    "version": 3
   },
   "file_extension": ".py",
   "mimetype": "text/x-python",
   "name": "python",
   "nbconvert_exporter": "python",
   "pygments_lexer": "ipython3",
   "version": "3.13.2"
  }
 },
 "nbformat": 4,
 "nbformat_minor": 4
}
