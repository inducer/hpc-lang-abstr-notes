{
 "cells": [
  {
   "cell_type": "markdown",
   "metadata": {},
   "source": [
    "# Towards Execution"
   ]
  },
  {
   "cell_type": "markdown",
   "metadata": {},
   "source": [
    "## Evaluation"
   ]
  },
  {
   "cell_type": "code",
   "execution_count": 18,
   "metadata": {},
   "outputs": [
    {
     "data": {
      "text/plain": [
       "Power(Sum((Power(Variable('x'), 2), Power(Variable('y'), 2))), 0.5)"
      ]
     },
     "execution_count": 18,
     "metadata": {},
     "output_type": "execute_result"
    }
   ],
   "source": [
    "from pymbolic import parse, var\n",
    "from pymbolic.mapper import Mapper\n",
    "\n",
    "expr = parse(\"(x**2 + y**2)**0.5\")\n",
    "expr"
   ]
  },
  {
   "cell_type": "markdown",
   "metadata": {},
   "source": [
    "Write an evaluator:"
   ]
  },
  {
   "cell_type": "code",
   "execution_count": 8,
   "metadata": {},
   "outputs": [],
   "source": [
    "#clear\n",
    "class Evaluator(Mapper):\n",
    "    def __init__(self, context):\n",
    "        self.context = context\n",
    "\n",
    "    def map_variable(self, expr):\n",
    "        return self.context[expr.name]\n",
    "\n",
    "    def map_constant(self, expr):\n",
    "        return expr\n",
    "\n",
    "    def map_sum(self, expr):\n",
    "        return sum(self.rec(ch) for ch in expr.children)\n",
    "\n",
    "    def map_power(self, expr):\n",
    "        return self.rec(expr.base) ** self.rec(expr.exponent)"
   ]
  },
  {
   "cell_type": "code",
   "execution_count": 9,
   "metadata": {},
   "outputs": [
    {
     "data": {
      "text/plain": [
       "8.602325267042627"
      ]
     },
     "execution_count": 9,
     "metadata": {},
     "output_type": "execute_result"
    }
   ],
   "source": [
    "Evaluator({\"x\": 5, \"y\": 7})(expr)"
   ]
  },
  {
   "cell_type": "markdown",
   "metadata": {},
   "source": [
    "## Towards Executable Code"
   ]
  },
  {
   "cell_type": "code",
   "execution_count": 25,
   "metadata": {},
   "outputs": [],
   "source": [
    "#clear\n",
    "class CodeWriter(Mapper):\n",
    "    def __init__(self):\n",
    "        self.lines = []\n",
    "        self.name_nr = 0\n",
    "        \n",
    "    def make_name(self):\n",
    "        self.name_nr += 1\n",
    "        return var(f\"tmp{self.name_nr}\")\n",
    "\n",
    "    def map_variable(self, expr):\n",
    "        return expr\n",
    "\n",
    "    def map_constant(self, expr):\n",
    "        return expr\n",
    "\n",
    "    def map_sum(self, expr):\n",
    "        a, b = expr.children\n",
    "        tmp = self.make_name()\n",
    "                   \n",
    "        self.lines.append(\"%s <- %s + %s\" % (tmp, self.rec(a), self.rec(b)))\n",
    "        return tmp\n",
    "\n",
    "    def map_power(self, expr):\n",
    "        tmp = self.make_name()\n",
    "                   \n",
    "        self.lines.append(\"%s <- %s ** %s\" % (tmp, self.rec(expr.base), self.rec(expr.exponent)))\n",
    "        return tmp"
   ]
  },
  {
   "cell_type": "code",
   "execution_count": 27,
   "metadata": {},
   "outputs": [
    {
     "name": "stdout",
     "output_type": "stream",
     "text": [
      "tmp3 <- x ** 2\n",
      "tmp4 <- y ** 2\n",
      "tmp2 <- tmp3 + tmp4\n",
      "tmp1 <- tmp2 ** 0.5\n",
      "\n",
      "tmp1\n"
     ]
    }
   ],
   "source": [
    "cw = CodeWriter()\n",
    "result = cw(expr)\n",
    "for l in cw.lines:\n",
    "    print(l)\n",
    "print()\n",
    "print(result)"
   ]
  },
  {
   "cell_type": "markdown",
   "metadata": {},
   "source": [
    "## Common Subexpressions"
   ]
  },
  {
   "cell_type": "code",
   "execution_count": 12,
   "metadata": {},
   "outputs": [
    {
     "data": {
      "text/plain": [
       "'pow(x + 4, 17)'"
      ]
     },
     "execution_count": 12,
     "metadata": {},
     "output_type": "execute_result"
    }
   ],
   "source": [
    "from pymbolic.mapper.c_code import CCodeMapper\n",
    "\n",
    "ccm = CCodeMapper()\n",
    "x = parse(\"x\")\n",
    "ccm((x+4)**17)"
   ]
  },
  {
   "cell_type": "markdown",
   "metadata": {},
   "source": [
    "Often, some parts of an expression occur multiple times in a bigger expression."
   ]
  },
  {
   "cell_type": "code",
   "execution_count": 14,
   "metadata": {},
   "outputs": [
    {
     "data": {
      "text/plain": [
       "'pow(x + 4, 3) + 4 * pow(x + 4, 3) * h * h + 2 * pow(x + 4, 3) * h'"
      ]
     },
     "execution_count": 14,
     "metadata": {},
     "output_type": "execute_result"
    }
   ],
   "source": [
    "u = (x+4)**3\n",
    "\n",
    "h = parse(\"h\")\n",
    "\n",
    "expr = u + 2*u*h + 4*u*h**2\n",
    "ccm(expr)"
   ]
  },
  {
   "cell_type": "markdown",
   "metadata": {},
   "source": [
    "- Obviously, that doesn't lead to great code. In particular, the redundancy is carried through to the code side.\n",
    "- Impulse: define variables.\n",
    "- Resist for a moment: Use expression as idenntifier. (Valid?)"
   ]
  },
  {
   "cell_type": "code",
   "execution_count": 15,
   "metadata": {},
   "outputs": [
    {
     "name": "stdout",
     "output_type": "stream",
     "text": [
      "_cse0 = pow(x + 4, 3)\n",
      "_cse0 + 4 * _cse0 * h * h + 2 * _cse0 * h\n"
     ]
    }
   ],
   "source": [
    "from pymbolic.primitives import CommonSubexpression as CSE\n",
    "\n",
    "u = CSE((x+4)**3)\n",
    "\n",
    "h = parse(\"h\")\n",
    "\n",
    "expr = u + 2*u*h + 4*u*h**2\n",
    "\n",
    "result = ccm(expr)\n",
    "\n",
    "for name, value in ccm.cse_name_list:\n",
    "    print(name, \"=\", value)\n",
    "    \n",
    "print(result)"
   ]
  },
  {
   "cell_type": "code",
   "execution_count": null,
   "metadata": {},
   "outputs": [],
   "source": []
  }
 ],
 "metadata": {
  "kernelspec": {
   "display_name": "Python 3",
   "language": "python",
   "name": "python3"
  },
  "language_info": {
   "codemirror_mode": {
    "name": "ipython",
    "version": 3
   },
   "file_extension": ".py",
   "mimetype": "text/x-python",
   "name": "python",
   "nbconvert_exporter": "python",
   "pygments_lexer": "ipython3",
   "version": "3.6.7"
  }
 },
 "nbformat": 4,
 "nbformat_minor": 2
}
