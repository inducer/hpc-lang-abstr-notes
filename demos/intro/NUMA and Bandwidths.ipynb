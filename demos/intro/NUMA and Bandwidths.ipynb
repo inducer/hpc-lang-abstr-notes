{
 "cells": [
  {
   "cell_type": "markdown",
   "metadata": {},
   "source": [
    "# NUMA and Bandwidths"
   ]
  },
  {
   "cell_type": "code",
   "execution_count": 1,
   "metadata": {},
   "outputs": [],
   "source": [
    "!rm -Rf tmp\n",
    "!mkdir -p tmp"
   ]
  },
  {
   "cell_type": "markdown",
   "metadata": {},
   "source": [
    "## Gathering Information"
   ]
  },
  {
   "cell_type": "code",
   "execution_count": 7,
   "metadata": {},
   "outputs": [
    {
     "name": "stdout",
     "output_type": "stream",
     "text": [
      "Overwriting tmp/numa-info.c\n"
     ]
    }
   ],
   "source": [
    "%%writefile tmp/numa-info.c\n",
    "\n",
    "#define _GNU_SOURCE\n",
    "#include <numa.h>\n",
    "#include <sched.h>\n",
    "#include <stdio.h>\n",
    "#include <pthread.h>\n",
    "#include <omp.h>\n",
    "#include <assert.h>\n",
    "#include \"timing.h\"\n",
    "\n",
    "\n",
    "void print_bitmask(const struct bitmask *bm)\n",
    "{\n",
    "  for(size_t i=0; i<bm->size; ++i)\n",
    "    printf(\"%d\", numa_bitmask_isbitset(bm, i));\n",
    "}\n",
    "\n",
    "\n",
    "int main(int argc, const char **argv)\n",
    "{\n",
    "  int num_cpus = numa_num_task_cpus();\n",
    "  printf(\"num cpus: %d\\n\", num_cpus);\n",
    "\n",
    "  printf(\"numa available: %d\\n\", numa_available());\n",
    "  numa_set_localalloc();\n",
    "\n",
    "  struct bitmask *bm = numa_bitmask_alloc(num_cpus);\n",
    "  for (int i=0; i<=numa_max_node(); ++i)\n",
    "  {\n",
    "    numa_node_to_cpus(i, bm);\n",
    "    printf(\"numa node %d \", i);\n",
    "    print_bitmask(bm);\n",
    "    printf(\" - %g GiB\\n\", numa_node_size(i, 0) / (1024.*1024*1024.));\n",
    "  }\n",
    "  numa_bitmask_free(bm);\n",
    "\n",
    "  return 0;\n",
    "}\n"
   ]
  },
  {
   "cell_type": "code",
   "execution_count": 8,
   "metadata": {},
   "outputs": [
    {
     "name": "stdout",
     "output_type": "stream",
     "text": [
      "num cpus: 16\r\n",
      "numa available: 0\r\n",
      "numa node 0 1111111100000000 - 31.3159 GiB\r\n",
      "numa node 1 0000000011111111 - 31.4982 GiB\r\n"
     ]
    }
   ],
   "source": [
    "! cd tmp; gcc -O3 -std=gnu99 -fopenmp -lrt -lnuma -I.. numa-info.c -onuma-info\n",
    "! ./tmp/numa-info"
   ]
  },
  {
   "cell_type": "markdown",
   "metadata": {},
   "source": [
    "## A Shared Header"
   ]
  },
  {
   "cell_type": "code",
   "execution_count": 3,
   "metadata": {},
   "outputs": [
    {
     "name": "stdout",
     "output_type": "stream",
     "text": [
      "Writing tmp/numatest.h\n"
     ]
    }
   ],
   "source": [
    "%%writefile tmp/numatest.h\n",
    "\n",
    "#define _GNU_SOURCE\n",
    "#include <numa.h>\n",
    "#include <sched.h>\n",
    "#include <stdio.h>\n",
    "#include <pthread.h>\n",
    "#include <omp.h>\n",
    "#include <assert.h>\n",
    "#include \"timing.h\"\n",
    "\n",
    "void pin_to_core(size_t core)\n",
    "{\n",
    "  cpu_set_t cpuset;\n",
    "  CPU_ZERO(&cpuset);\n",
    "  CPU_SET(core, &cpuset);\n",
    "  pthread_setaffinity_np(pthread_self(), sizeof(cpu_set_t), &cpuset);\n",
    "}\n",
    "\n",
    "double measure_access(void *x, size_t array_size, size_t ntrips)\n",
    "{\n",
    "  timestamp_type t1;\n",
    "  get_timestamp(&t1);\n",
    "\n",
    "  for (size_t i = 0; i<ntrips; ++i)\n",
    "    for(size_t j = 0; j<array_size; ++j)\n",
    "    {\n",
    "      *(((char*)x) + ((j * 1009) % array_size)) += 1;\n",
    "    }\n",
    "\n",
    "  timestamp_type t2;\n",
    "  get_timestamp(&t2);\n",
    "\n",
    "  return timestamp_diff_in_seconds(t1, t2);\n",
    "}\n"
   ]
  },
  {
   "cell_type": "markdown",
   "metadata": {},
   "source": [
    "## On- and Off-Node Bandwidths"
   ]
  },
  {
   "cell_type": "code",
   "execution_count": 10,
   "metadata": {},
   "outputs": [
    {
     "name": "stdout",
     "output_type": "stream",
     "text": [
      "Overwriting tmp/numa-bw-seq.c\n"
     ]
    }
   ],
   "source": [
    "%%writefile tmp/numa-bw-seq.c\n",
    "\n",
    "#include \"numatest.h\"\n",
    "\n",
    "int main(int argc, const char **argv)\n",
    "{\n",
    "  int num_cpus = numa_num_task_cpus();\n",
    "  numa_set_localalloc();\n",
    "\n",
    "  char *x;\n",
    "  const size_t cache_line_size = 64;\n",
    "  const size_t array_size = 100*1000*1000;\n",
    "  size_t ntrips = 2;\n",
    "\n",
    "#pragma omp parallel\n",
    "  {\n",
    "    assert(omp_get_num_threads() == num_cpus);\n",
    "    int tid = omp_get_thread_num();\n",
    "\n",
    "    pin_to_core(tid);\n",
    "    if(tid == 0)\n",
    "      x = (char *) numa_alloc_local(array_size);\n",
    "\n",
    "    // {{{ single access\n",
    "#pragma omp barrier\n",
    "    for (size_t i = 0; i<num_cpus; ++i)\n",
    "    {\n",
    "      if (tid == i)\n",
    "      {\n",
    "        double t = measure_access(x, array_size, ntrips);\n",
    "        printf(\"sequential core %d -> core 0 : BW %g MB/s\\n\",\n",
    "            i, array_size*ntrips*cache_line_size / t / 1e6);\n",
    "      }\n",
    "#pragma omp barrier\n",
    "    }\n",
    "    // }}}\n",
    "  }\n",
    "  numa_free(x, array_size);\n",
    "\n",
    "  return 0;\n",
    "}\n"
   ]
  },
  {
   "cell_type": "code",
   "execution_count": 11,
   "metadata": {},
   "outputs": [
    {
     "name": "stdout",
     "output_type": "stream",
     "text": [
      "sequential core 0 -> core 0 : BW 8322.05 MB/s\n",
      "sequential core 1 -> core 0 : BW 8636.35 MB/s\n",
      "sequential core 2 -> core 0 : BW 8713.88 MB/s\n",
      "sequential core 3 -> core 0 : BW 8695.55 MB/s\n",
      "sequential core 4 -> core 0 : BW 8649.28 MB/s\n",
      "sequential core 5 -> core 0 : BW 8738.7 MB/s\n",
      "sequential core 6 -> core 0 : BW 8665.42 MB/s\n",
      "sequential core 7 -> core 0 : BW 8702.21 MB/s\n",
      "sequential core 8 -> core 0 : BW 4821.3 MB/s\n",
      "sequential core 9 -> core 0 : BW 4806.34 MB/s\n",
      "sequential core 10 -> core 0 : BW 4817.99 MB/s\n",
      "sequential core 11 -> core 0 : BW 4788.99 MB/s\n",
      "sequential core 12 -> core 0 : BW 4824.2 MB/s\n",
      "sequential core 13 -> core 0 : BW 4819.79 MB/s\n",
      "sequential core 14 -> core 0 : BW 4828.46 MB/s\n",
      "sequential core 15 -> core 0 : BW 4809.35 MB/s\n"
     ]
    }
   ],
   "source": [
    "! cd tmp; gcc -O3 -std=gnu99 -fopenmp -lrt -lnuma -I.. numa-bw-seq.c -onuma-bw-seq\n",
    "! ./tmp/numa-bw-seq"
   ]
  },
  {
   "cell_type": "markdown",
   "metadata": {},
   "source": [
    "## Contention: Everybody"
   ]
  },
  {
   "cell_type": "code",
   "execution_count": 1,
   "metadata": {},
   "outputs": [
    {
     "name": "stdout",
     "output_type": "stream",
     "text": [
      "Overwriting tmp/numa-bw-all.c\n"
     ]
    }
   ],
   "source": [
    "%%writefile tmp/numa-bw-all.c\n",
    "\n",
    "#include \"numatest.h\"\n",
    "\n",
    "int main(int argc, const char **argv)\n",
    "{\n",
    "  int num_cpus = numa_num_task_cpus();\n",
    "  numa_set_localalloc();\n",
    "\n",
    "  char *x;\n",
    "  const size_t cache_line_size = 64;\n",
    "  const size_t array_size = 100*1000*1000;\n",
    "  size_t ntrips = 2;\n",
    "\n",
    "#pragma omp parallel\n",
    "  {\n",
    "    assert(omp_get_num_threads() == num_cpus);\n",
    "    int tid = omp_get_thread_num();\n",
    "\n",
    "    pin_to_core(tid);\n",
    "    if(tid == 0)\n",
    "      x = (char *) numa_alloc_local(array_size);\n",
    "\n",
    "    // {{{ everybody contends for one\n",
    "\n",
    "    {\n",
    "      if (tid == 0) puts(\"\");\n",
    "\n",
    "#pragma omp barrier\n",
    "      double t = measure_access(x, array_size, ntrips);\n",
    "#pragma omp barrier\n",
    "      for (size_t i = 0; i<num_cpus; ++i)\n",
    "      {\n",
    "        if (tid == i)\n",
    "          printf(\"all-contention core %d -> core 0 : BW %g MB/s\\n\",\n",
    "              tid, array_size*ntrips*cache_line_size / t / 1e6);\n",
    "#pragma omp barrier\n",
    "      }\n",
    "    }\n",
    "\n",
    "    // }}}\n",
    "\n",
    "  }\n",
    "  numa_free(x, array_size);\n",
    "\n",
    "  return 0;\n",
    "}\n"
   ]
  },
  {
   "cell_type": "code",
   "execution_count": 3,
   "metadata": {},
   "outputs": [
    {
     "name": "stdout",
     "output_type": "stream",
     "text": [
      "\n",
      "all-contention core 0 -> core 0 : BW 1698.6 MB/s\n",
      "all-contention core 1 -> core 0 : BW 1699.33 MB/s\n",
      "all-contention core 2 -> core 0 : BW 1699.32 MB/s\n",
      "all-contention core 3 -> core 0 : BW 1699.33 MB/s\n",
      "all-contention core 4 -> core 0 : BW 1699.33 MB/s\n",
      "all-contention core 5 -> core 0 : BW 1698.6 MB/s\n",
      "all-contention core 6 -> core 0 : BW 1698.6 MB/s\n",
      "all-contention core 7 -> core 0 : BW 1699.32 MB/s\n",
      "all-contention core 8 -> core 0 : BW 1668.48 MB/s\n",
      "all-contention core 9 -> core 0 : BW 1677.92 MB/s\n",
      "all-contention core 10 -> core 0 : BW 1678.6 MB/s\n",
      "all-contention core 11 -> core 0 : BW 1668.48 MB/s\n",
      "all-contention core 12 -> core 0 : BW 1668.48 MB/s\n",
      "all-contention core 13 -> core 0 : BW 1677.31 MB/s\n",
      "all-contention core 14 -> core 0 : BW 1678.6 MB/s\n",
      "all-contention core 15 -> core 0 : BW 1668.48 MB/s\n"
     ]
    }
   ],
   "source": [
    "! cd tmp; gcc -O3 -std=gnu99 -fopenmp -lrt -lnuma -I.. numa-bw-all.c -onuma-bw-all\n",
    "! ./tmp/numa-bw-all"
   ]
  },
  {
   "cell_type": "markdown",
   "metadata": {},
   "source": [
    "## Contention: Pairs"
   ]
  },
  {
   "cell_type": "code",
   "execution_count": 13,
   "metadata": {},
   "outputs": [
    {
     "name": "stdout",
     "output_type": "stream",
     "text": [
      "Overwriting tmp/numa-bw-two.c\n"
     ]
    }
   ],
   "source": [
    "%%writefile tmp/numa-bw-two.c\n",
    "\n",
    "#include \"numatest.h\"\n",
    "\n",
    "int main(int argc, const char **argv)\n",
    "{\n",
    "  int num_cpus = numa_num_task_cpus();\n",
    "  numa_set_localalloc();\n",
    "\n",
    "  char *x;\n",
    "  const size_t cache_line_size = 64;\n",
    "  const size_t array_size = 100*1000*1000;\n",
    "  size_t ntrips = 2;\n",
    "\n",
    "#pragma omp parallel\n",
    "  {\n",
    "    assert(omp_get_num_threads() == num_cpus);\n",
    "    int tid = omp_get_thread_num();\n",
    "\n",
    "    pin_to_core(tid);\n",
    "    if(tid == 0)\n",
    "      x = (char *) numa_alloc_local(array_size);\n",
    "\n",
    "    // {{{ zero and someone else contending\n",
    "\n",
    "    if (tid == 0) puts(\"\");\n",
    "\n",
    "#pragma omp barrier\n",
    "    for (size_t i = 1; i<num_cpus; ++i)\n",
    "    {\n",
    "      double t;\n",
    "      if (tid == i || tid == 0)\n",
    "        t = measure_access(x, array_size, ntrips);\n",
    "\n",
    "#pragma omp barrier\n",
    "      if (tid == 0)\n",
    "      {\n",
    "        printf(\"two-contention core %d -> core 0 : BW %g MB/s\\n\",\n",
    "            tid, array_size*ntrips*cache_line_size / t / 1e6);\n",
    "      }\n",
    "#pragma omp barrier\n",
    "      if (tid == i)\n",
    "      {\n",
    "        printf(\"two-contention core %d -> core 0 : BW %g MB/s\\n\\n\",\n",
    "            tid, array_size*ntrips*cache_line_size / t / 1e6);\n",
    "      }\n",
    "#pragma omp barrier\n",
    "    }\n",
    "  }\n",
    "  numa_free(x, array_size);\n",
    "\n",
    "  return 0;\n",
    "}\n"
   ]
  },
  {
   "cell_type": "code",
   "execution_count": 14,
   "metadata": {},
   "outputs": [
    {
     "name": "stdout",
     "output_type": "stream",
     "text": [
      "\n",
      "two-contention core 0 -> core 0 : BW 7348.34 MB/s\n",
      "two-contention core 1 -> core 0 : BW 7348.35 MB/s\n",
      "\n",
      "two-contention core 0 -> core 0 : BW 7653.44 MB/s\n",
      "two-contention core 2 -> core 0 : BW 7653.55 MB/s\n",
      "\n",
      "two-contention core 0 -> core 0 : BW 7661.08 MB/s\n",
      "two-contention core 3 -> core 0 : BW 7661.09 MB/s\n",
      "\n",
      "two-contention core 0 -> core 0 : BW 7643.78 MB/s\n",
      "two-contention core 4 -> core 0 : BW 7643.98 MB/s\n",
      "\n",
      "two-contention core 0 -> core 0 : BW 7698.85 MB/s\n",
      "two-contention core 5 -> core 0 : BW 7698.86 MB/s\n",
      "\n",
      "two-contention core 0 -> core 0 : BW 7592.64 MB/s\n",
      "two-contention core 6 -> core 0 : BW 7592.65 MB/s\n",
      "\n",
      "two-contention core 0 -> core 0 : BW 7694.93 MB/s\n",
      "two-contention core 7 -> core 0 : BW 7694.93 MB/s\n",
      "\n",
      "two-contention core 0 -> core 0 : BW 7541.66 MB/s\n",
      "two-contention core 8 -> core 0 : BW 4713.53 MB/s\n",
      "\n",
      "two-contention core 0 -> core 0 : BW 7516.31 MB/s\n",
      "two-contention core 9 -> core 0 : BW 4697.66 MB/s\n",
      "\n",
      "two-contention core 0 -> core 0 : BW 7513.48 MB/s\n",
      "two-contention core 10 -> core 0 : BW 4705.6 MB/s\n",
      "\n",
      "two-contention core 0 -> core 0 : BW 7519.91 MB/s\n",
      "two-contention core 11 -> core 0 : BW 4702.41 MB/s\n",
      "\n",
      "two-contention core 0 -> core 0 : BW 7510.43 MB/s\n",
      "two-contention core 12 -> core 0 : BW 4710.96 MB/s\n",
      "\n",
      "two-contention core 0 -> core 0 : BW 7524.66 MB/s\n",
      "two-contention core 13 -> core 0 : BW 4691.61 MB/s\n",
      "\n",
      "two-contention core 0 -> core 0 : BW 7524.08 MB/s\n",
      "two-contention core 14 -> core 0 : BW 4711.21 MB/s\n",
      "\n",
      "two-contention core 0 -> core 0 : BW 7520.46 MB/s\n",
      "two-contention core 15 -> core 0 : BW 4691.32 MB/s\n",
      "\n"
     ]
    }
   ],
   "source": [
    "! cd tmp; gcc -O3 -std=gnu99 -fopenmp -lrt -lnuma -I.. numa-bw-two.c -onuma-bw-two\n",
    "! ./tmp/numa-bw-two"
   ]
  },
  {
   "cell_type": "markdown",
   "metadata": {},
   "source": [
    "Tests based on `numatest.cpp` by James Brock\n",
    "http://stackoverflow.com/questions/7259363/measuring-numa-non-uniform-memory-access-no-observable-asymmetry-why\n",
    "\n",
    "Changes by Andreas Kloeckner, 10/2012:\n",
    "- Rewritten in C + OpenMP\n",
    "- Added contention tests"
   ]
  }
 ],
 "metadata": {
  "kernelspec": {
   "display_name": "Python 3",
   "language": "python",
   "name": "python3"
  },
  "language_info": {
   "codemirror_mode": {
    "name": "ipython",
    "version": 3
   },
   "file_extension": ".py",
   "mimetype": "text/x-python",
   "name": "python",
   "nbconvert_exporter": "python",
   "pygments_lexer": "ipython3",
   "version": "3.6.6"
  }
 },
 "nbformat": 4,
 "nbformat_minor": 2
}
