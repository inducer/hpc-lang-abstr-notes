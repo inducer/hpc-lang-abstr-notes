{
 "cells": [
  {
   "cell_type": "markdown",
   "metadata": {},
   "source": [
    "# NUMA and Bandwidths"
   ]
  },
  {
   "cell_type": "code",
   "execution_count": 1,
   "metadata": {},
   "outputs": [
    {
     "name": "stderr",
     "output_type": "stream",
     "text": [
      "/usr/lib/python3.13/pty.py:95: DeprecationWarning: This process (pid=1119399) is multi-threaded, use of forkpty() may lead to deadlocks in the child.\n",
      "  pid, fd = os.forkpty()\n"
     ]
    }
   ],
   "source": [
    "!rm -Rf tmp\n",
    "!mkdir -p tmp"
   ]
  },
  {
   "cell_type": "markdown",
   "metadata": {},
   "source": [
    "## Gathering Information"
   ]
  },
  {
   "cell_type": "code",
   "execution_count": 2,
   "metadata": {},
   "outputs": [
    {
     "name": "stdout",
     "output_type": "stream",
     "text": [
      "Writing tmp/numa-info.c\n"
     ]
    }
   ],
   "source": [
    "%%writefile tmp/numa-info.c\n",
    "\n",
    "#define _GNU_SOURCE\n",
    "#include <numa.h>\n",
    "#include <sched.h>\n",
    "#include <stdio.h>\n",
    "#include <pthread.h>\n",
    "#include <omp.h>\n",
    "#include <assert.h>\n",
    "#include \"timing.h\"\n",
    "\n",
    "\n",
    "void print_bitmask(const struct bitmask *bm)\n",
    "{\n",
    "  for(size_t i=0; i<bm->size; ++i)\n",
    "    printf(\"%d\", numa_bitmask_isbitset(bm, i));\n",
    "}\n",
    "\n",
    "\n",
    "int main(int argc, const char **argv)\n",
    "{\n",
    "  int num_cpus = numa_num_task_cpus();\n",
    "  printf(\"num cpus: %d\\n\", num_cpus);\n",
    "\n",
    "  printf(\"numa available: %d\\n\", numa_available());\n",
    "  numa_set_localalloc();\n",
    "\n",
    "  struct bitmask *bm = numa_bitmask_alloc(num_cpus);\n",
    "  for (int i=0; i<=numa_max_node(); ++i)\n",
    "  {\n",
    "    numa_node_to_cpus(i, bm);\n",
    "    printf(\"numa node %d \", i);\n",
    "    print_bitmask(bm);\n",
    "    printf(\" - %g GiB\\n\", numa_node_size(i, 0) / (1024.*1024*1024.));\n",
    "  }\n",
    "  numa_bitmask_free(bm);\n",
    "\n",
    "  return 0;\n",
    "}\n"
   ]
  },
  {
   "cell_type": "code",
   "execution_count": 3,
   "metadata": {},
   "outputs": [
    {
     "name": "stdout",
     "output_type": "stream",
     "text": [
      "num cpus: 40\r\n",
      "numa available: 0\r\n",
      "numa node 0 1111111111000000000011111111110000000000 - 125.787 GiB\r\n",
      "numa node 1 0000000000111111111100000000001111111111 - 125.991 GiB\r\n"
     ]
    }
   ],
   "source": [
    "! cd tmp; gcc -O3 -std=gnu99 -fopenmp -I.. numa-info.c -onuma-info  -lrt -lnuma \n",
    "! ./tmp/numa-info"
   ]
  },
  {
   "cell_type": "markdown",
   "metadata": {},
   "source": [
    "## A Shared Header"
   ]
  },
  {
   "cell_type": "code",
   "execution_count": 4,
   "metadata": {},
   "outputs": [
    {
     "name": "stdout",
     "output_type": "stream",
     "text": [
      "Writing tmp/numatest.h\n"
     ]
    }
   ],
   "source": [
    "%%writefile tmp/numatest.h\n",
    "\n",
    "#define _GNU_SOURCE\n",
    "#include <numa.h>\n",
    "#include <sched.h>\n",
    "#include <stdio.h>\n",
    "#include <pthread.h>\n",
    "#include <omp.h>\n",
    "#include <assert.h>\n",
    "#include \"timing.h\"\n",
    "\n",
    "void pin_to_core(size_t core)\n",
    "{\n",
    "  cpu_set_t cpuset;\n",
    "  CPU_ZERO(&cpuset);\n",
    "  CPU_SET(core, &cpuset);\n",
    "  pthread_setaffinity_np(pthread_self(), sizeof(cpu_set_t), &cpuset);\n",
    "}\n",
    "\n",
    "double measure_access(void *x, size_t array_size, size_t ntrips)\n",
    "{\n",
    "  timestamp_type t1;\n",
    "  get_timestamp(&t1);\n",
    "\n",
    "  for (size_t i = 0; i<ntrips; ++i)\n",
    "    for(size_t j = 0; j<array_size; ++j)\n",
    "    {\n",
    "      *(((char*)x) + ((j * 1009) % array_size)) += 1;\n",
    "    }\n",
    "\n",
    "  timestamp_type t2;\n",
    "  get_timestamp(&t2);\n",
    "\n",
    "  return timestamp_diff_in_seconds(t1, t2);\n",
    "}\n"
   ]
  },
  {
   "cell_type": "markdown",
   "metadata": {},
   "source": [
    "## On- and Off-Node Bandwidths"
   ]
  },
  {
   "cell_type": "code",
   "execution_count": 5,
   "metadata": {},
   "outputs": [
    {
     "name": "stdout",
     "output_type": "stream",
     "text": [
      "Writing tmp/numa-bw-seq.c\n"
     ]
    }
   ],
   "source": [
    "%%writefile tmp/numa-bw-seq.c\n",
    "\n",
    "#include \"numatest.h\"\n",
    "\n",
    "int main(int argc, const char **argv)\n",
    "{\n",
    "  int num_cpus = numa_num_task_cpus();\n",
    "  numa_set_localalloc();\n",
    "\n",
    "  char *x;\n",
    "  const size_t cache_line_size = 64;\n",
    "  const size_t array_size = 100*1000*1000;\n",
    "  size_t ntrips = 2;\n",
    "\n",
    "#pragma omp parallel\n",
    "  {\n",
    "    assert(omp_get_num_threads() == num_cpus);\n",
    "    int tid = omp_get_thread_num();\n",
    "\n",
    "    pin_to_core(tid);\n",
    "    if(tid == 0)\n",
    "      x = (char *) numa_alloc_local(array_size);\n",
    "\n",
    "    // {{{ single access\n",
    "#pragma omp barrier\n",
    "    for (size_t i = 0; i<num_cpus; ++i)\n",
    "    {\n",
    "      if (tid == i)\n",
    "      {\n",
    "        double t = measure_access(x, array_size, ntrips);\n",
    "        printf(\"sequential core %d -> core 0 : BW %g MB/s\\n\",\n",
    "            i, array_size*ntrips*cache_line_size / t / 1e6);\n",
    "      }\n",
    "#pragma omp barrier\n",
    "    }\n",
    "    // }}}\n",
    "  }\n",
    "  numa_free(x, array_size);\n",
    "\n",
    "  return 0;\n",
    "}\n"
   ]
  },
  {
   "cell_type": "code",
   "execution_count": 6,
   "metadata": {},
   "outputs": [
    {
     "name": "stdout",
     "output_type": "stream",
     "text": [
      "sequential core 0 -> core 0 : BW 9050.91 MB/s\n",
      "sequential core 1 -> core 0 : BW 9042.27 MB/s\n",
      "sequential core 2 -> core 0 : BW 8930.08 MB/s\n",
      "sequential core 3 -> core 0 : BW 8807.79 MB/s\n",
      "sequential core 4 -> core 0 : BW 8910.02 MB/s\n",
      "sequential core 5 -> core 0 : BW 8931.34 MB/s\n",
      "sequential core 6 -> core 0 : BW 8938.98 MB/s\n",
      "sequential core 7 -> core 0 : BW 8916.03 MB/s\n",
      "sequential core 8 -> core 0 : BW 8802.26 MB/s\n",
      "sequential core 9 -> core 0 : BW 8873.57 MB/s\n",
      "sequential core 10 -> core 0 : BW 5272.82 MB/s\n",
      "sequential core 11 -> core 0 : BW 5298.58 MB/s\n",
      "sequential core 12 -> core 0 : BW 5255.52 MB/s\n",
      "sequential core 13 -> core 0 : BW 5268.69 MB/s\n",
      "sequential core 14 -> core 0 : BW 5274.39 MB/s\n",
      "sequential core 15 -> core 0 : BW 5270.42 MB/s\n",
      "sequential core 16 -> core 0 : BW 5226.53 MB/s\n",
      "sequential core 17 -> core 0 : BW 5241.64 MB/s\n",
      "sequential core 18 -> core 0 : BW 5243.96 MB/s\n",
      "sequential core 19 -> core 0 : BW 5243.59 MB/s\n",
      "sequential core 20 -> core 0 : BW 8892.04 MB/s\n",
      "sequential core 21 -> core 0 : BW 8907.34 MB/s\n",
      "sequential core 22 -> core 0 : BW 8879.57 MB/s\n",
      "sequential core 23 -> core 0 : BW 8855.68 MB/s\n",
      "sequential core 24 -> core 0 : BW 8941.27 MB/s\n",
      "sequential core 25 -> core 0 : BW 8955.88 MB/s\n",
      "sequential core 26 -> core 0 : BW 8996.45 MB/s\n",
      "sequential core 27 -> core 0 : BW 8980.76 MB/s\n",
      "sequential core 28 -> core 0 : BW 8846.18 MB/s\n",
      "sequential core 29 -> core 0 : BW 8807.19 MB/s\n",
      "sequential core 30 -> core 0 : BW 5278.72 MB/s\n",
      "sequential core 31 -> core 0 : BW 5275.17 MB/s\n",
      "sequential core 32 -> core 0 : BW 5238.94 MB/s\n",
      "sequential core 33 -> core 0 : BW 5289.06 MB/s\n",
      "sequential core 34 -> core 0 : BW 5277.72 MB/s\n",
      "sequential core 35 -> core 0 : BW 5282.07 MB/s\n",
      "sequential core 36 -> core 0 : BW 5241.97 MB/s\n",
      "sequential core 37 -> core 0 : BW 5231.47 MB/s\n",
      "sequential core 38 -> core 0 : BW 5251.63 MB/s\n",
      "sequential core 39 -> core 0 : BW 5228.47 MB/s\n"
     ]
    }
   ],
   "source": [
    "! cd tmp; gcc -O3 -std=gnu99 -fopenmp -I.. numa-bw-seq.c -onuma-bw-seq -lrt -lnuma\n",
    "! ./tmp/numa-bw-seq"
   ]
  },
  {
   "cell_type": "markdown",
   "metadata": {},
   "source": [
    "## Contention: Everybody"
   ]
  },
  {
   "cell_type": "code",
   "execution_count": 7,
   "metadata": {},
   "outputs": [
    {
     "name": "stdout",
     "output_type": "stream",
     "text": [
      "Writing tmp/numa-bw-all.c\n"
     ]
    }
   ],
   "source": [
    "%%writefile tmp/numa-bw-all.c\n",
    "\n",
    "#include \"numatest.h\"\n",
    "\n",
    "int main(int argc, const char **argv)\n",
    "{\n",
    "  int num_cpus = numa_num_task_cpus();\n",
    "  numa_set_localalloc();\n",
    "\n",
    "  char *x;\n",
    "  const size_t cache_line_size = 64;\n",
    "  const size_t array_size = 100*1000*1000;\n",
    "  size_t ntrips = 2;\n",
    "\n",
    "#pragma omp parallel\n",
    "  {\n",
    "    assert(omp_get_num_threads() == num_cpus);\n",
    "    int tid = omp_get_thread_num();\n",
    "\n",
    "    pin_to_core(tid);\n",
    "    if(tid == 0)\n",
    "      x = (char *) numa_alloc_local(array_size);\n",
    "\n",
    "    // {{{ everybody contends for one\n",
    "\n",
    "    {\n",
    "      if (tid == 0) puts(\"\");\n",
    "\n",
    "#pragma omp barrier\n",
    "      double t = measure_access(x, array_size, ntrips);\n",
    "#pragma omp barrier\n",
    "      for (size_t i = 0; i<num_cpus; ++i)\n",
    "      {\n",
    "        if (tid == i)\n",
    "          printf(\"all-contention core %d -> core 0 : BW %g MB/s\\n\",\n",
    "              tid, array_size*ntrips*cache_line_size / t / 1e6);\n",
    "#pragma omp barrier\n",
    "      }\n",
    "    }\n",
    "\n",
    "    // }}}\n",
    "\n",
    "  }\n",
    "  numa_free(x, array_size);\n",
    "\n",
    "  return 0;\n",
    "}\n"
   ]
  },
  {
   "cell_type": "code",
   "execution_count": 9,
   "metadata": {},
   "outputs": [
    {
     "name": "stdout",
     "output_type": "stream",
     "text": [
      "\n",
      "all-contention core 0 -> core 0 : BW 2005.95 MB/s\n",
      "all-contention core 1 -> core 0 : BW 2005.95 MB/s\n",
      "all-contention core 2 -> core 0 : BW 2005.95 MB/s\n",
      "all-contention core 3 -> core 0 : BW 2005.95 MB/s\n",
      "all-contention core 4 -> core 0 : BW 2005.95 MB/s\n",
      "all-contention core 5 -> core 0 : BW 2005.95 MB/s\n",
      "all-contention core 6 -> core 0 : BW 2005.95 MB/s\n",
      "all-contention core 7 -> core 0 : BW 2005.95 MB/s\n",
      "all-contention core 8 -> core 0 : BW 2005.95 MB/s\n",
      "all-contention core 9 -> core 0 : BW 1965.81 MB/s\n",
      "all-contention core 10 -> core 0 : BW 2244.92 MB/s\n",
      "all-contention core 11 -> core 0 : BW 2202.21 MB/s\n",
      "all-contention core 12 -> core 0 : BW 2244.92 MB/s\n",
      "all-contention core 13 -> core 0 : BW 2244.92 MB/s\n",
      "all-contention core 14 -> core 0 : BW 2244.92 MB/s\n",
      "all-contention core 15 -> core 0 : BW 2202.21 MB/s\n",
      "all-contention core 16 -> core 0 : BW 2244.91 MB/s\n",
      "all-contention core 17 -> core 0 : BW 2287.71 MB/s\n",
      "all-contention core 18 -> core 0 : BW 2244.92 MB/s\n",
      "all-contention core 19 -> core 0 : BW 2244.91 MB/s\n",
      "all-contention core 20 -> core 0 : BW 2005.95 MB/s\n",
      "all-contention core 21 -> core 0 : BW 2005.95 MB/s\n",
      "all-contention core 22 -> core 0 : BW 2004.08 MB/s\n",
      "all-contention core 23 -> core 0 : BW 2005.95 MB/s\n",
      "all-contention core 24 -> core 0 : BW 2005.95 MB/s\n",
      "all-contention core 25 -> core 0 : BW 2005.95 MB/s\n",
      "all-contention core 26 -> core 0 : BW 2005.95 MB/s\n",
      "all-contention core 27 -> core 0 : BW 2005.95 MB/s\n",
      "all-contention core 28 -> core 0 : BW 2005.95 MB/s\n",
      "all-contention core 29 -> core 0 : BW 2005.95 MB/s\n",
      "all-contention core 30 -> core 0 : BW 2244.92 MB/s\n",
      "all-contention core 31 -> core 0 : BW 2244.91 MB/s\n",
      "all-contention core 32 -> core 0 : BW 2244.92 MB/s\n",
      "all-contention core 33 -> core 0 : BW 2287.75 MB/s\n",
      "all-contention core 34 -> core 0 : BW 2244.92 MB/s\n",
      "all-contention core 35 -> core 0 : BW 2244.92 MB/s\n",
      "all-contention core 36 -> core 0 : BW 2244.91 MB/s\n",
      "all-contention core 37 -> core 0 : BW 2287.68 MB/s\n",
      "all-contention core 38 -> core 0 : BW 2244.92 MB/s\n",
      "all-contention core 39 -> core 0 : BW 2244.91 MB/s\n"
     ]
    }
   ],
   "source": [
    "! cd tmp; gcc -O3 -std=gnu99 -fopenmp -I.. numa-bw-all.c -onuma-bw-all -lrt -lnuma\n",
    "! ./tmp/numa-bw-all"
   ]
  },
  {
   "cell_type": "markdown",
   "metadata": {},
   "source": [
    "## Contention: Pairs"
   ]
  },
  {
   "cell_type": "code",
   "execution_count": 10,
   "metadata": {},
   "outputs": [
    {
     "name": "stdout",
     "output_type": "stream",
     "text": [
      "Writing tmp/numa-bw-two.c\n"
     ]
    }
   ],
   "source": [
    "%%writefile tmp/numa-bw-two.c\n",
    "\n",
    "#include \"numatest.h\"\n",
    "\n",
    "int main(int argc, const char **argv)\n",
    "{\n",
    "  int num_cpus = numa_num_task_cpus();\n",
    "  numa_set_localalloc();\n",
    "\n",
    "  char *x;\n",
    "  const size_t cache_line_size = 64;\n",
    "  const size_t array_size = 100*1000*1000;\n",
    "  size_t ntrips = 2;\n",
    "\n",
    "#pragma omp parallel\n",
    "  {\n",
    "    assert(omp_get_num_threads() == num_cpus);\n",
    "    int tid = omp_get_thread_num();\n",
    "\n",
    "    pin_to_core(tid);\n",
    "    if(tid == 0)\n",
    "      x = (char *) numa_alloc_local(array_size);\n",
    "\n",
    "    // {{{ zero and someone else contending\n",
    "\n",
    "    if (tid == 0) puts(\"\");\n",
    "\n",
    "#pragma omp barrier\n",
    "    for (size_t i = 1; i<num_cpus; ++i)\n",
    "    {\n",
    "      double t;\n",
    "      if (tid == i || tid == 0)\n",
    "        t = measure_access(x, array_size, ntrips);\n",
    "\n",
    "#pragma omp barrier\n",
    "      if (tid == 0)\n",
    "      {\n",
    "        printf(\"two-contention core %d -> core 0 : BW %g MB/s\\n\",\n",
    "            tid, array_size*ntrips*cache_line_size / t / 1e6);\n",
    "      }\n",
    "#pragma omp barrier\n",
    "      if (tid == i)\n",
    "      {\n",
    "        printf(\"two-contention core %d -> core 0 : BW %g MB/s\\n\\n\",\n",
    "            tid, array_size*ntrips*cache_line_size / t / 1e6);\n",
    "      }\n",
    "#pragma omp barrier\n",
    "    }\n",
    "  }\n",
    "  numa_free(x, array_size);\n",
    "\n",
    "  return 0;\n",
    "}\n"
   ]
  },
  {
   "cell_type": "code",
   "execution_count": 11,
   "metadata": {},
   "outputs": [
    {
     "name": "stdout",
     "output_type": "stream",
     "text": [
      "\n",
      "two-contention core 0 -> core 0 : BW 9151.35 MB/s\n",
      "two-contention core 1 -> core 0 : BW 9151.58 MB/s\n",
      "\n",
      "two-contention core 0 -> core 0 : BW 9456.32 MB/s\n",
      "two-contention core 2 -> core 0 : BW 9456.59 MB/s\n",
      "\n",
      "two-contention core 0 -> core 0 : BW 9522.92 MB/s\n",
      "two-contention core 3 -> core 0 : BW 9523.18 MB/s\n",
      "\n",
      "two-contention core 0 -> core 0 : BW 9529.5 MB/s\n",
      "two-contention core 4 -> core 0 : BW 9529.12 MB/s\n",
      "\n",
      "two-contention core 0 -> core 0 : BW 9497.15 MB/s\n",
      "two-contention core 5 -> core 0 : BW 9497.42 MB/s\n",
      "\n",
      "two-contention core 0 -> core 0 : BW 9561.61 MB/s\n",
      "two-contention core 6 -> core 0 : BW 9564.12 MB/s\n",
      "\n",
      "two-contention core 0 -> core 0 : BW 9529.33 MB/s\n",
      "two-contention core 7 -> core 0 : BW 9529.11 MB/s\n",
      "\n",
      "two-contention core 0 -> core 0 : BW 9438.81 MB/s\n",
      "two-contention core 8 -> core 0 : BW 9439.07 MB/s\n",
      "\n",
      "two-contention core 0 -> core 0 : BW 9519.34 MB/s\n",
      "two-contention core 9 -> core 0 : BW 9519.58 MB/s\n",
      "\n",
      "two-contention core 0 -> core 0 : BW 9535.17 MB/s\n",
      "two-contention core 10 -> core 0 : BW 5936.42 MB/s\n",
      "\n",
      "two-contention core 0 -> core 0 : BW 9527.58 MB/s\n",
      "two-contention core 11 -> core 0 : BW 5892.69 MB/s\n",
      "\n",
      "two-contention core 0 -> core 0 : BW 9535.6 MB/s\n",
      "two-contention core 12 -> core 0 : BW 5887.66 MB/s\n",
      "\n",
      "two-contention core 0 -> core 0 : BW 9541.36 MB/s\n",
      "two-contention core 13 -> core 0 : BW 5913.78 MB/s\n",
      "\n",
      "two-contention core 0 -> core 0 : BW 9545.8 MB/s\n",
      "two-contention core 14 -> core 0 : BW 5881.52 MB/s\n",
      "\n",
      "two-contention core 0 -> core 0 : BW 9547.44 MB/s\n",
      "two-contention core 15 -> core 0 : BW 5911.23 MB/s\n",
      "\n",
      "two-contention core 0 -> core 0 : BW 9462 MB/s\n",
      "two-contention core 16 -> core 0 : BW 5872.03 MB/s\n",
      "\n",
      "two-contention core 0 -> core 0 : BW 9437.58 MB/s\n",
      "two-contention core 17 -> core 0 : BW 5868.85 MB/s\n",
      "\n",
      "two-contention core 0 -> core 0 : BW 9460.75 MB/s\n",
      "two-contention core 18 -> core 0 : BW 5882.61 MB/s\n",
      "\n",
      "two-contention core 0 -> core 0 : BW 9470.81 MB/s\n",
      "two-contention core 19 -> core 0 : BW 5882.17 MB/s\n",
      "\n",
      "two-contention core 0 -> core 0 : BW 5359.29 MB/s\n",
      "two-contention core 20 -> core 0 : BW 5359.29 MB/s\n",
      "\n",
      "two-contention core 0 -> core 0 : BW 9561.09 MB/s\n",
      "two-contention core 21 -> core 0 : BW 9560.84 MB/s\n",
      "\n",
      "two-contention core 0 -> core 0 : BW 9413.73 MB/s\n",
      "two-contention core 22 -> core 0 : BW 9416.16 MB/s\n",
      "\n",
      "two-contention core 0 -> core 0 : BW 9300.45 MB/s\n",
      "two-contention core 23 -> core 0 : BW 9300.79 MB/s\n",
      "\n",
      "two-contention core 0 -> core 0 : BW 9565.24 MB/s\n",
      "two-contention core 24 -> core 0 : BW 9565.53 MB/s\n",
      "\n",
      "two-contention core 0 -> core 0 : BW 9402.21 MB/s\n",
      "two-contention core 25 -> core 0 : BW 9402 MB/s\n",
      "\n",
      "two-contention core 0 -> core 0 : BW 9517.25 MB/s\n",
      "two-contention core 26 -> core 0 : BW 9517.51 MB/s\n",
      "\n",
      "two-contention core 0 -> core 0 : BW 9618.22 MB/s\n",
      "two-contention core 27 -> core 0 : BW 9618.5 MB/s\n",
      "\n",
      "two-contention core 0 -> core 0 : BW 9571.53 MB/s\n",
      "two-contention core 28 -> core 0 : BW 9571.78 MB/s\n",
      "\n",
      "two-contention core 0 -> core 0 : BW 9582.94 MB/s\n",
      "two-contention core 29 -> core 0 : BW 9583.24 MB/s\n",
      "\n",
      "two-contention core 0 -> core 0 : BW 9433.29 MB/s\n",
      "two-contention core 30 -> core 0 : BW 5855.02 MB/s\n",
      "\n",
      "two-contention core 0 -> core 0 : BW 9435.66 MB/s\n",
      "two-contention core 31 -> core 0 : BW 5920.6 MB/s\n",
      "\n",
      "two-contention core 0 -> core 0 : BW 9451.84 MB/s\n",
      "two-contention core 32 -> core 0 : BW 5917.47 MB/s\n",
      "\n",
      "two-contention core 0 -> core 0 : BW 9419.94 MB/s\n",
      "two-contention core 33 -> core 0 : BW 5913.4 MB/s\n",
      "\n",
      "two-contention core 0 -> core 0 : BW 9437.07 MB/s\n",
      "two-contention core 34 -> core 0 : BW 5933.62 MB/s\n",
      "\n",
      "two-contention core 0 -> core 0 : BW 9447.02 MB/s\n",
      "two-contention core 35 -> core 0 : BW 5921.93 MB/s\n",
      "\n",
      "two-contention core 0 -> core 0 : BW 9445.1 MB/s\n",
      "two-contention core 36 -> core 0 : BW 5888.16 MB/s\n",
      "\n",
      "two-contention core 0 -> core 0 : BW 9561.59 MB/s\n",
      "two-contention core 37 -> core 0 : BW 5881.14 MB/s\n",
      "\n",
      "two-contention core 0 -> core 0 : BW 9457.36 MB/s\n",
      "two-contention core 38 -> core 0 : BW 5880.95 MB/s\n",
      "\n",
      "two-contention core 0 -> core 0 : BW 9436.63 MB/s\n",
      "two-contention core 39 -> core 0 : BW 5890.23 MB/s\n",
      "\n"
     ]
    }
   ],
   "source": [
    "! cd tmp; gcc -O3 -std=gnu99 -fopenmp -I.. numa-bw-two.c -onuma-bw-two -lrt -lnuma\n",
    "! ./tmp/numa-bw-two"
   ]
  },
  {
   "cell_type": "markdown",
   "metadata": {},
   "source": [
    "Tests based on `numatest.cpp` by James Brock\n",
    "http://stackoverflow.com/questions/7259363/measuring-numa-non-uniform-memory-access-no-observable-asymmetry-why\n",
    "\n",
    "Changes by Andreas Kloeckner, 10/2012:\n",
    "- Rewritten in C + OpenMP\n",
    "- Added contention tests"
   ]
  }
 ],
 "metadata": {
  "kernelspec": {
   "display_name": "Python 3 (ipykernel)",
   "language": "python",
   "name": "python3"
  },
  "language_info": {
   "codemirror_mode": {
    "name": "ipython",
    "version": 3
   },
   "file_extension": ".py",
   "mimetype": "text/x-python",
   "name": "python",
   "nbconvert_exporter": "python",
   "pygments_lexer": "ipython3",
   "version": "3.13.2"
  }
 },
 "nbformat": 4,
 "nbformat_minor": 2
}
