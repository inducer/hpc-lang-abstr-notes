{
 "cells": [
  {
   "cell_type": "markdown",
   "metadata": {},
   "source": [
    "# Pipeline Performance Mysteries"
   ]
  },
  {
   "cell_type": "markdown",
   "metadata": {},
   "source": [
    "Consider setting power profiles, see `cpupower-gui`."
   ]
  },
  {
   "cell_type": "code",
   "execution_count": 11,
   "metadata": {},
   "outputs": [
    {
     "name": "stdout",
     "output_type": "stream",
     "text": [
      "analyzing CPU 7:\n",
      "  driver: intel_pstate\n",
      "  CPUs which run at the same hardware frequency: 7\n",
      "  CPUs which need to have their frequency coordinated by software: 7\n",
      "  maximum transition latency:  Cannot determine or is not supported.\n",
      "  hardware limits: 400 MHz - 3.90 GHz\n",
      "  available cpufreq governors: performance powersave\n",
      "  current policy: frequency should be within 400 MHz and 3.90 GHz.\n",
      "                  The governor \"performance\" may decide which speed to use\n",
      "                  within this range.\n",
      "  current CPU frequency: Unable to call hardware\n",
      "  current CPU frequency: 3.64 GHz (asserted by call to kernel)\n",
      "  boost state support:\n",
      "    Supported: yes\n",
      "    Active: yes\n"
     ]
    }
   ],
   "source": [
    "!LANG= cpupower frequency-info "
   ]
  },
  {
   "cell_type": "code",
   "execution_count": 12,
   "metadata": {},
   "outputs": [],
   "source": [
    "!rm -Rf tmp\n",
    "!mkdir -p tmp"
   ]
  },
  {
   "cell_type": "code",
   "execution_count": 13,
   "metadata": {},
   "outputs": [
    {
     "name": "stdout",
     "output_type": "stream",
     "text": [
      "Writing tmp/pipeline-perf.c\n"
     ]
    }
   ],
   "source": [
    "%%writefile tmp/pipeline-perf.c\n",
    "\n",
    "#include <stdio.h>\n",
    "#include \"timing.h\"\n",
    "\n",
    "\n",
    "int main()\n",
    "{\n",
    "  int result = 0;\n",
    "\n",
    "  {\n",
    "    int a = 0, b = 0;\n",
    "\n",
    "    timestamp_type t1;\n",
    "    get_timestamp(&t1);\n",
    "\n",
    "    for (int ntrips = 0; ntrips < 1000; ++ntrips)\n",
    "      for (int i = 0; i< 400*1000; ++i)\n",
    "      {\n",
    "        a += i;\n",
    "        a += i;\n",
    "      }\n",
    "\n",
    "    timestamp_type t2;\n",
    "    get_timestamp(&t2);\n",
    "\n",
    "    printf(\"a, a: elapsed time %g s\\n\",\n",
    "        timestamp_diff_in_seconds(t1, t2));\n",
    "    result += a+b;\n",
    "  }\n",
    "\n",
    "  return result;\n",
    "}"
   ]
  },
  {
   "cell_type": "code",
   "execution_count": 14,
   "metadata": {},
   "outputs": [
    {
     "name": "stdout",
     "output_type": "stream",
     "text": [
      "a, a: elapsed time 1.14691 s\n"
     ]
    }
   ],
   "source": [
    "!cd tmp; gcc -std=gnu99 -lrt -I.. -opipeline-perf pipeline-perf.c\n",
    "!tmp/pipeline-perf"
   ]
  },
  {
   "cell_type": "markdown",
   "metadata": {},
   "source": [
    "Check that the compiler didn't do anything unexpected:"
   ]
  },
  {
   "cell_type": "code",
   "execution_count": 15,
   "metadata": {},
   "outputs": [],
   "source": [
    "# !objdump --disassemble tmp/pipeline-perf"
   ]
  },
  {
   "cell_type": "markdown",
   "metadata": {},
   "source": [
    "Come up with variants of this that exhibit various behaviors of the execution pipeline:"
   ]
  },
  {
   "cell_type": "code",
   "execution_count": null,
   "metadata": {},
   "outputs": [],
   "source": []
  },
  {
   "cell_type": "code",
   "execution_count": 16,
   "metadata": {},
   "outputs": [
    {
     "name": "stdout",
     "output_type": "stream",
     "text": [
      "a, a: elapsed time 1.13467 s\n"
     ]
    }
   ],
   "source": [
    "!cd tmp; gcc -std=gnu99 -lrt -I.. -opipeline-perf pipeline-perf.c\n",
    "!tmp/pipeline-perf"
   ]
  },
  {
   "cell_type": "markdown",
   "metadata": {},
   "source": [
    "* Scroll down for solution\n",
    "* Scroll down for solution\n",
    "* Scroll down for solution\n",
    "* Scroll down for solution\n",
    "* Scroll down for solution\n",
    "* Scroll down for solution\n",
    "* Scroll down for solution\n",
    "* Scroll down for solution\n",
    "* Scroll down for solution\n",
    "* Scroll down for solution\n",
    "* Scroll down for solution\n",
    "* Scroll down for solution\n",
    "* Scroll down for solution\n",
    "* Scroll down for solution\n",
    "* Scroll down for solution\n",
    "* Scroll down for solution\n",
    "* Scroll down for solution\n",
    "* Scroll down for solution\n",
    "* Scroll down for solution\n",
    "* Scroll down for solution\n",
    "* Scroll down for solution\n",
    "* Scroll down for solution\n",
    "* Scroll down for solution\n",
    "* Scroll down for solution\n",
    "* Scroll down for solution\n",
    "* Scroll down for solution\n",
    "* Scroll down for solution\n",
    "* Scroll down for solution\n",
    "* Scroll down for solution\n",
    "* Scroll down for solution\n",
    "* Scroll down for solution\n",
    "* Scroll down for solution\n",
    "* Scroll down for solution\n",
    "* Scroll down for solution\n",
    "* Scroll down for solution\n",
    "* Scroll down for solution\n",
    "* Scroll down for solution\n",
    "* Scroll down for solution\n",
    "* Scroll down for solution\n",
    "* Scroll down for solution\n",
    "* Scroll down for solution\n",
    "* Scroll down for solution\n",
    "* Scroll down for solution\n",
    "* Scroll down for solution\n",
    "* Scroll down for solution\n",
    "* Scroll down for solution\n",
    "* Scroll down for solution\n",
    "* Scroll down for solution\n",
    "* Scroll down for solution\n",
    "* Scroll down for solution\n",
    "* Scroll down for solution\n",
    "* Scroll down for solution\n",
    "* Scroll down for solution\n",
    "* Scroll down for solution\n",
    "* Scroll down for solution\n",
    "* Scroll down for solution\n",
    "* Scroll down for solution\n",
    "* Scroll down for solution\n",
    "* Scroll down for solution\n",
    "* Scroll down for solution\n",
    "* Scroll down for solution\n",
    "* Scroll down for solution\n",
    "* Scroll down for solution\n",
    "* Scroll down for solution\n",
    "* Scroll down for solution\n",
    "* Scroll down for solution\n",
    "* Scroll down for solution\n",
    "* Scroll down for solution\n",
    "* Scroll down for solution\n",
    "* Scroll down for solution\n",
    "* Scroll down for solution\n",
    "* Scroll down for solution\n",
    "* Scroll down for solution\n",
    "* Scroll down for solution\n",
    "* Scroll down for solution\n",
    "* Scroll down for solution\n",
    "* Scroll down for solution\n",
    "* Scroll down for solution\n",
    "* Scroll down for solution\n",
    "* Scroll down for solution\n",
    "* Scroll down for solution\n",
    "* Scroll down for solution\n"
   ]
  },
  {
   "cell_type": "code",
   "execution_count": 17,
   "metadata": {},
   "outputs": [
    {
     "name": "stdout",
     "output_type": "stream",
     "text": [
      "Overwriting tmp/pipeline-perf.c\n"
     ]
    }
   ],
   "source": [
    "%%writefile tmp/pipeline-perf.c\n",
    "\n",
    "#include <stdio.h>\n",
    "#include \"timing.h\"\n",
    "\n",
    "\n",
    "int main()\n",
    "{\n",
    "  int result = 0;\n",
    "\n",
    "  {\n",
    "    int a = 0, b = 0;\n",
    "\n",
    "    timestamp_type t1;\n",
    "    get_timestamp(&t1);\n",
    "\n",
    "    for (int ntrips = 0; ntrips < 1000; ++ntrips)\n",
    "      for (int i = 0; i< 1000*1000; ++i)\n",
    "      {\n",
    "        a += i;\n",
    "        a += i;\n",
    "      }\n",
    "\n",
    "    timestamp_type t2;\n",
    "    get_timestamp(&t2);\n",
    "\n",
    "    printf(\"a, a: elapsed time %g s\\n\",\n",
    "        timestamp_diff_in_seconds(t1, t2));\n",
    "    result += a+b;\n",
    "  }\n",
    "\n",
    "  {\n",
    "    int a = 0, b = 0;\n",
    "\n",
    "    timestamp_type t1;\n",
    "    get_timestamp(&t1);\n",
    "\n",
    "    for (int ntrips = 0; ntrips < 1000; ++ntrips)\n",
    "      for (int i = 0; i< 1000*1000; ++i)\n",
    "      {\n",
    "        a += i;\n",
    "        b += i;\n",
    "      }\n",
    "\n",
    "    timestamp_type t2;\n",
    "    get_timestamp(&t2);\n",
    "\n",
    "    printf(\"a, b: elapsed time %g s\\n\",\n",
    "        timestamp_diff_in_seconds(t1, t2));\n",
    "    result += a+b;\n",
    "  }\n",
    "\n",
    "  {\n",
    "    int a = 0, b = 0;\n",
    "\n",
    "    timestamp_type t1;\n",
    "    get_timestamp(&t1);\n",
    "\n",
    "    for (int ntrips = 0; ntrips < 1000; ++ntrips)\n",
    "      for (int i = 0; i< 250*1000; ++i)\n",
    "      {\n",
    "        a += i;\n",
    "        a += i;\n",
    " \n",
    "        a += i;\n",
    "        a += i;\n",
    " \n",
    "        a += i;\n",
    "        a += i;\n",
    " \n",
    "        a += i;\n",
    "        a += i;\n",
    " \n",
    "      }\n",
    "\n",
    "    timestamp_type t2;\n",
    "    get_timestamp(&t2);\n",
    "\n",
    "    printf(\"a, a unrolled: elapsed time %g s\\n\",\n",
    "        timestamp_diff_in_seconds(t1, t2));\n",
    "    result += a+b;\n",
    "  }\n",
    "  {\n",
    "    int a = 0, b = 0;\n",
    "\n",
    "    timestamp_type t1;\n",
    "    get_timestamp(&t1);\n",
    "\n",
    "    for (int ntrips = 0; ntrips < 1000; ++ntrips)\n",
    "      for (int i = 0; i< 250*1000; ++i)\n",
    "      {\n",
    "        a += i;\n",
    "        a += i;\n",
    "        a += i;\n",
    "        a += i;\n",
    "          \n",
    "        b += i;\n",
    "        b += i;\n",
    "        b += i;\n",
    "        b += i;\n",
    "      }\n",
    "\n",
    "    timestamp_type t2;\n",
    "    get_timestamp(&t2);\n",
    "\n",
    "    printf(\"aa, bb unrolled: elapsed time %g s\\n\",\n",
    "        timestamp_diff_in_seconds(t1, t2));\n",
    "    result += a+b;\n",
    "  }\n",
    "\n",
    "  {\n",
    "    int a = 0, b = 0;\n",
    "\n",
    "    timestamp_type t1;\n",
    "    get_timestamp(&t1);\n",
    "\n",
    "    for (int ntrips = 0; ntrips < 1000; ++ntrips)\n",
    "      for (int i = 0; i< 250*1000; ++i)\n",
    "      {\n",
    "        a += i;\n",
    "        b += i;\n",
    "\n",
    "        a += i;\n",
    "        b += i;\n",
    "\n",
    "        a += i;\n",
    "        b += i;\n",
    "\n",
    "        a += i;\n",
    "        b += i;\n",
    "      }\n",
    "\n",
    "    timestamp_type t2;\n",
    "    get_timestamp(&t2);\n",
    "\n",
    "    printf(\"a, b unrolled: elapsed time %g s\\n\",\n",
    "        timestamp_diff_in_seconds(t1, t2));\n",
    "    result += a+b;\n",
    "  }\n",
    "\n",
    "  return result;\n",
    "}"
   ]
  },
  {
   "cell_type": "code",
   "execution_count": 18,
   "metadata": {},
   "outputs": [
    {
     "name": "stdout",
     "output_type": "stream",
     "text": [
      "a, a: elapsed time 2.85316 s\n",
      "a, b: elapsed time 1.53108 s\n",
      "a, a unrolled: elapsed time 2.862 s\n",
      "aa, bb unrolled: elapsed time 1.46449 s\n",
      "a, b unrolled: elapsed time 1.49071 s\n"
     ]
    }
   ],
   "source": [
    "!cd tmp; gcc -std=gnu99 -lrt -I.. -opipeline-perf pipeline-perf.c \n",
    "!tmp/pipeline-perf"
   ]
  },
  {
   "cell_type": "code",
   "execution_count": null,
   "metadata": {},
   "outputs": [],
   "source": []
  }
 ],
 "metadata": {
  "kernelspec": {
   "display_name": "Python 3 (ipykernel)",
   "language": "python",
   "name": "python3"
  },
  "language_info": {
   "codemirror_mode": {
    "name": "ipython",
    "version": 3
   },
   "file_extension": ".py",
   "mimetype": "text/x-python",
   "name": "python",
   "nbconvert_exporter": "python",
   "pygments_lexer": "ipython3",
   "version": "3.13.1"
  }
 },
 "nbformat": 4,
 "nbformat_minor": 4
}
