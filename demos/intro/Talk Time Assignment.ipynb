{
 "cells": [
  {
   "cell_type": "markdown",
   "metadata": {},
   "source": [
    "# Talk Slot Assignment"
   ]
  },
  {
   "cell_type": "code",
   "execution_count": null,
   "metadata": {},
   "outputs": [],
   "source": [
    "names = \"\"\"\n",
    "\"\"\".split(\"\\n\")\n",
    "\n",
    "names = [n for n in names if n]\n",
    "names = sorted(names, key=lambda n: n.split()[-1])"
   ]
  },
  {
   "cell_type": "code",
   "execution_count": null,
   "metadata": {},
   "outputs": [],
   "source": [
    "talk_days = \"\"\"\n",
    "Friday, September 21, 2018\n",
    "# Friday, September 28, 2018\n",
    "Friday, October 5, 2018\n",
    "Friday, October 12, 2018\n",
    "Friday, October 19, 2018\n",
    "Friday, October 26, 2018\n",
    "Friday, November 2, 2018\n",
    "Friday, November 9, 2018\n",
    "Friday, November 16, 2018\n",
    "# Friday, November 23, 2018\n",
    "Wednesday, November 28, 2018\n",
    "Friday, November 30, 2018\n",
    "Wednesday, December 5, 2018\n",
    "Friday, December 7, 2018\n",
    "\"\"\".split(\"\\n\")\n",
    "\n",
    "talk_days = [d for d in talk_days if d and not d.startswith(\"#\")]\n",
    "talk_slots = [f\"{day} Talk {nr}\" for day in talk_days for nr in [1, 2]]"
   ]
  },
  {
   "cell_type": "code",
   "execution_count": null,
   "metadata": {},
   "outputs": [],
   "source": [
    "from random import randrange, seed\n",
    "seed()\n",
    "\n",
    "slot_urn = talk_slots[:]\n",
    "slot_to_name = {}\n",
    "\n",
    "for n in names:\n",
    "    i = randrange(len(slot_urn))\n",
    "    slot = slot_urn.pop(i)\n",
    "    slot_to_name[slot] = n\n",
    "    print(f\"{n}\\t{slot}\")\n",
    "    \n",
    "print()\n",
    "print(f\"{len(slot_urn)} slots left over\")\n",
    "print()\n",
    "for slot in talk_slots:\n",
    "    print(f\"{slot}\\t{slot_to_name[slot]}\")\n",
    "    "
   ]
  },
  {
   "cell_type": "code",
   "execution_count": null,
   "metadata": {},
   "outputs": [],
   "source": []
  }
 ],
 "metadata": {
  "kernelspec": {
   "display_name": "Python 3",
   "language": "python",
   "name": "python3"
  },
  "language_info": {
   "codemirror_mode": {
    "name": "ipython",
    "version": 3
   },
   "file_extension": ".py",
   "mimetype": "text/x-python",
   "name": "python",
   "nbconvert_exporter": "python",
   "pygments_lexer": "ipython3",
   "version": "3.6.6"
  }
 },
 "nbformat": 4,
 "nbformat_minor": 2
}
