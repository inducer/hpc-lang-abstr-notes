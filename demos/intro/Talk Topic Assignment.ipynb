{
 "cells": [
  {
   "cell_type": "markdown",
   "metadata": {},
   "source": [
    "# Talk Topic Assignment"
   ]
  },
  {
   "cell_type": "code",
   "execution_count": null,
   "metadata": {},
   "outputs": [],
   "source": [
    "import glob\n",
    "import json\n",
    "import os\n",
    "import numpy as np"
   ]
  },
  {
   "cell_type": "code",
   "execution_count": null,
   "metadata": {},
   "outputs": [],
   "source": [
    "NORMALIZATION_MAP = {\n",
    "        # A book\n",
    "        \"balaji2015\": None,\n",
    "        \"jaaskelainen2016\":  \"jaaskelainen2015\",\n",
    "        \"bezanson2015\":  \"bezanson2017\",\n",
    "        \"frigo1999\":  None,\n",
    "        \"trott2014\": \"edwards2014\",\n",
    "        }\n",
    "\n",
    "\n",
    "def normalize_paper(s):\n",
    "    s = (\n",
    "            s\n",
    "            .lower()\n",
    "            .replace(\" \", \"\")\n",
    "            .replace(\"(\", \"\")\n",
    "            .replace(\")\", \"\")\n",
    "            .replace(\",\", \"\")\n",
    "            .replace(\"ä\", \"a\")\n",
    "            .replace(\"-\", \"\")\n",
    "            .replace(\"jasskel\", \"jaaskel\")\n",
    "            )\n",
    "    return NORMALIZATION_MAP.get(s, s)"
   ]
  },
  {
   "cell_type": "markdown",
   "metadata": {},
   "source": [
    "Read and normalize data:"
   ]
  },
  {
   "cell_type": "code",
   "execution_count": null,
   "metadata": {},
   "outputs": [],
   "source": [
    "all_prefs = {}\n",
    "for fname in glob.glob(\"../../../grade/talk-assignment/*.json\"):\n",
    "    at_index = fname.find(\"@\")\n",
    "    if at_index < 0:\n",
    "        continue\n",
    "\n",
    "    name = os.path.basename(fname[:at_index])\n",
    "\n",
    "    with open(fname, \"rb\") as inf:\n",
    "        all_prefs[name] = json.load(inf)\n",
    "\n",
    "for name in all_prefs:\n",
    "    all_prefs[name] = [all_prefs[name][\"pref%d\" % i] for i in range(1, 5)]\n",
    "\n",
    "other_count = [0]\n",
    "\n",
    "def unique_other(s):\n",
    "    if s == \"other\":\n",
    "        other_count[0] += 1\n",
    "        return \"other%d\" % other_count[0]\n",
    "    return s\n",
    "\n",
    "for name in all_prefs:\n",
    "    all_prefs[name] = [\n",
    "            unique_other(normalize_paper(s)) for s in all_prefs[name]]\n",
    "\n",
    "for name in all_prefs:\n",
    "    all_prefs[name] = [\n",
    "            s for s in all_prefs[name] if s is not None]\n",
    "    \n",
    "# sort keys, because hey: ordered dicts\n",
    "all_prefs = {name: all_prefs[name] for name in sorted(all_prefs)}"
   ]
  },
  {
   "cell_type": "markdown",
   "metadata": {},
   "source": [
    "Build cost matrix:"
   ]
  },
  {
   "cell_type": "code",
   "execution_count": null,
   "metadata": {},
   "outputs": [],
   "source": [
    "papers = sorted(set(\n",
    "        paper\n",
    "        for pref in all_prefs.values()\n",
    "        for paper in pref))\n",
    "if 0:\n",
    "    print(papers)\n",
    "\n",
    "names = list(all_prefs)\n",
    "\n",
    "cost_matrix = np.empty((len(names), len(papers)))\n",
    "cost_matrix.fill(100)\n",
    "\n",
    "for name, prefs in all_prefs.items():\n",
    "    row = names.index(name)\n",
    "    for i, pref in enumerate(prefs):\n",
    "        col = papers.index(pref)\n",
    "        cost_matrix[row, col] = i"
   ]
  },
  {
   "cell_type": "markdown",
   "metadata": {},
   "source": [
    "Compute solution:"
   ]
  },
  {
   "cell_type": "code",
   "execution_count": null,
   "metadata": {},
   "outputs": [],
   "source": [
    "from scipy.optimize import linear_sum_assignment\n",
    "name_indices, paper_indices = linear_sum_assignment(cost_matrix)\n",
    "for ni, pi in zip(name_indices, paper_indices):\n",
    "    print(f\"{names[ni]}: {papers[pi]} -> cost: {cost_matrix[ni, pi]}\")\n",
    "\n",
    "print()\n",
    "print(f\"Total cost: {cost_matrix[name_indices, paper_indices].sum()}\")"
   ]
  },
  {
   "cell_type": "code",
   "execution_count": null,
   "metadata": {},
   "outputs": [],
   "source": []
  }
 ],
 "metadata": {
  "kernelspec": {
   "display_name": "Python 3",
   "language": "python",
   "name": "python3"
  },
  "language_info": {
   "codemirror_mode": {
    "name": "ipython",
    "version": 3
   },
   "file_extension": ".py",
   "mimetype": "text/x-python",
   "name": "python",
   "nbconvert_exporter": "python",
   "pygments_lexer": "ipython3",
   "version": "3.6.6"
  }
 },
 "nbformat": 4,
 "nbformat_minor": 2
}
