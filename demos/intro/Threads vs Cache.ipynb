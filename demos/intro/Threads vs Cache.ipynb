{
 "cells": [
  {
   "cell_type": "markdown",
   "metadata": {},
   "source": [
    "# Threads vs Cache"
   ]
  },
  {
   "cell_type": "code",
   "execution_count": 1,
   "metadata": {},
   "outputs": [],
   "source": [
    "!rm -Rf tmp\n",
    "!mkdir -p tmp"
   ]
  },
  {
   "cell_type": "code",
   "execution_count": 4,
   "metadata": {},
   "outputs": [
    {
     "name": "stdout",
     "output_type": "stream",
     "text": [
      "Overwriting tmp/threads-vs-cache.c\n"
     ]
    }
   ],
   "source": [
    "%%writefile tmp/threads-vs-cache.c\n",
    "\n",
    "// modified from Lin & Snyder\n",
    "// http://books.google.com/books?id=iYghAQAAIAA\n",
    "\n",
    "#include <omp.h>\n",
    "#include <stdlib.h>\n",
    "#include <stdio.h>\n",
    "#include <assert.h>\n",
    "#include \"timing.h\"\n",
    "\n",
    "\n",
    "int main()\n",
    "{\n",
    "  const int array_size = 256*1000;\n",
    "\n",
    "  int *array = malloc(array_size * sizeof(int));\n",
    "  for (int i = 0; i < array_size; ++i)\n",
    "    array[i] = rand() % 10;\n",
    "\n",
    "  int num_threads = omp_get_max_threads();\n",
    "  const int stride = 1;\n",
    "  volatile int sums[num_threads*stride];\n",
    "\n",
    "  timestamp_type t1;\n",
    "  get_timestamp(&t1);\n",
    "\n",
    "#pragma omp parallel default(none) shared(sums,num_threads,array_size) firstprivate(array,stride)\n",
    "  {\n",
    "    assert(omp_get_num_threads() == num_threads);\n",
    "\n",
    "    int tid = omp_get_thread_num();\n",
    "\n",
    "    for (int trp = 0; trp < 5000; ++trp)\n",
    "    {\n",
    "#pragma omp for\n",
    "      for (int i = 0; i < array_size; ++i)\n",
    "        sums[tid*stride] += array[i];\n",
    "    }\n",
    "  }\n",
    "\n",
    "  timestamp_type t2;\n",
    "  get_timestamp(&t2);\n",
    "\n",
    "  double elapsed = timestamp_diff_in_seconds(t1, t2);\n",
    "  printf(\"elapsed wall time: %g s (%d threads)\\n\", elapsed, num_threads);\n",
    "\n",
    "  free(array);\n",
    "  return 0;\n",
    "}\n"
   ]
  },
  {
   "cell_type": "code",
   "execution_count": 5,
   "metadata": {},
   "outputs": [],
   "source": [
    "! cd tmp; gcc -std=gnu99 -fopenmp -lrt -I.. threads-vs-cache.c -othreads-vs-cache"
   ]
  },
  {
   "cell_type": "code",
   "execution_count": 11,
   "metadata": {},
   "outputs": [
    {
     "name": "stdout",
     "output_type": "stream",
     "text": [
      "elapsed wall time: 2.64714 s (1 threads)\n"
     ]
    }
   ],
   "source": [
    "!OMP_NUM_THREADS=1 ./tmp/threads-vs-cache"
   ]
  },
  {
   "cell_type": "code",
   "execution_count": 12,
   "metadata": {},
   "outputs": [
    {
     "name": "stdout",
     "output_type": "stream",
     "text": [
      "elapsed wall time: 2.70445 s (2 threads)\n"
     ]
    }
   ],
   "source": [
    "!OMP_PLACES=cores OMP_NUM_THREADS=2 ./tmp/threads-vs-cache"
   ]
  },
  {
   "cell_type": "code",
   "execution_count": null,
   "metadata": {},
   "outputs": [],
   "source": []
  }
 ],
 "metadata": {
  "kernelspec": {
   "display_name": "Python 3 (ipykernel)",
   "language": "python",
   "name": "python3"
  },
  "language_info": {
   "codemirror_mode": {
    "name": "ipython",
    "version": 3
   },
   "file_extension": ".py",
   "mimetype": "text/x-python",
   "name": "python",
   "nbconvert_exporter": "python",
   "pygments_lexer": "ipython3",
   "version": "3.13.2"
  }
 },
 "nbformat": 4,
 "nbformat_minor": 4
}
