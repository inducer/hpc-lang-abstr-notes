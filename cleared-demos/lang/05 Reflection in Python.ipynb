{
  "cells": [
    {
      "cell_type": "markdown",
      "metadata": {},
      "source": [
        "# Reflection (by the example of Python)"
      ]
    },
    {
      "cell_type": "markdown",
      "metadata": {},
      "source": [
        "## Accessing the AST\n",
        "\n",
        "It is also possible to access code that is written in Python. This works using the `ast` module, and works as follows:"
      ]
    },
    {
      "cell_type": "code",
      "execution_count": 8,
      "metadata": {
        "collapsed": false
      },
      "outputs": [],
      "source": [
        "SRC = \"\"\"\n",
        "def f(x, y):\n",
        "    return 2*x + y**2 + 5\n",
        "\"\"\"\n",
        "\n",
        "import ast\n",
        "tree = ast.parse(SRC)\n",
        "\n",
        "print(ast.dump(tree))"
      ]
    },
    {
      "cell_type": "markdown",
      "metadata": {},
      "source": [
        "It is possible to transcribe the expressions here into the form discussed earlier."
      ]
    },
    {
      "cell_type": "code",
      "execution_count": 5,
      "metadata": {},
      "outputs": [],
      "source": [
        "print(ast.dump(tree.body[0].body[0].value))"
      ]
    },
    {
      "cell_type": "code",
      "execution_count": 6,
      "metadata": {
        "collapsed": false
      },
      "outputs": [],
      "source": [
        "from pymbolic.interop.ast import ASTToPymbolic\n",
        "expr = ASTToPymbolic()(tree.body[0].body[0].value)\n",
        "print(expr)"
      ]
    },
    {
      "cell_type": "markdown",
      "metadata": {},
      "source": [
        "But beware when defining languages this way. Python has very well-defined semantics, and the user will expect that your way of executing their code is a good match for their mental model of what the code should do. As such, it may be better to start with a \"blank slate\" in terms of language design, so as to not run afoul of already formed expectations."
      ]
    },
    {
      "cell_type": "markdown",
      "metadata": {},
      "source": [
        "## Accessing the Bytecode"
      ]
    },
    {
      "cell_type": "code",
      "execution_count": 7,
      "metadata": {},
      "outputs": [],
      "source": [
        "def f(x, y):\n",
        "    return 2*x + y**2 + 5\n",
        "\n",
        "import dis\n",
        "dis.dis(f)"
      ]
    },
    {
      "cell_type": "markdown",
      "metadata": {},
      "source": [
        "Observations:\n",
        "\n",
        "* Stack-based machine\n",
        "* Operations corresponding to Python's abstract object model\n",
        "* Notice anything about local variables?\n",
        "* See [Hy](http://docs.hylang.org/en/stable/tutorial.html) for a lisp-y language implemented on the same VM. [Demo](https://try-hy.appspot.com/)"
      ]
    }
  ],
  "metadata": {
    "kernelspec": {
      "display_name": "Python 3",
      "language": "python",
      "name": "python3"
    },
    "language_info": {
      "codemirror_mode": {
        "name": "ipython",
        "version": 3
      },
      "file_extension": ".py",
      "mimetype": "text/x-python",
      "name": "python",
      "nbconvert_exporter": "python",
      "pygments_lexer": "ipython3",
      "version": "3.6.7"
    }
  },
  "nbformat": 4,
  "nbformat_minor": 2
}