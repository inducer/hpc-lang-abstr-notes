{
  "cells": [
    {
      "cell_type": "markdown",
      "metadata": {},
      "source": [
        "# Expression Templates"
      ]
    },
    {
      "cell_type": "markdown",
      "metadata": {},
      "source": [
        "## Definition by Hand\n",
        "\n",
        "Example stolen from [Wikipedia](https://en.wikipedia.org/wiki/Expression_templates)."
      ]
    },
    {
      "cell_type": "code",
      "execution_count": 1,
      "metadata": {},
      "outputs": [],
      "source": [
        "!mkdir -p tmp"
      ]
    },
    {
      "cell_type": "code",
      "execution_count": 23,
      "metadata": {},
      "outputs": [],
      "source": [
        "%%writefile tmp/expr-templ.cxx\n",
        "\n",
        "#include <cstdlib>\n",
        "#include <cassert>\n",
        "#include <vector>\n",
        "#include <iostream>\n",
        "\n",
        "template <typename E>\n",
        "class VecExpression {\n",
        "  public:\n",
        "    virtual ~VecExpression() { }\n",
        "    double operator[](size_t i) const { return static_cast<E const&>(*this)[i];     }\n",
        "    size_t size()               const { return static_cast<E const&>(*this).size(); }\n",
        "};\n",
        "\n",
        "// ----------------------------------------------\n",
        "\n",
        "class Vec : public VecExpression<Vec> {\n",
        "    std::vector<double> elems;\n",
        "\n",
        "  public:\n",
        "    double operator[](size_t i) const { return elems[i]; }\n",
        "    double &operator[](size_t i)      { return elems[i]; }\n",
        "    size_t size() const               { return elems.size(); }\n",
        "\n",
        "    Vec(size_t n) : elems(n) {}\n",
        "\n",
        "    // construct vector using initializer list \n",
        "    Vec(std::initializer_list<double>init){\n",
        "        for(auto i:init)\n",
        "            elems.push_back(i);\n",
        "    }\n",
        "\n",
        "\n",
        "    // A Vec can be constructed from any VecExpression, forcing its evaluation.\n",
        "    template <typename E>\n",
        "    Vec(VecExpression<E> const& vec) : elems(vec.size()) {\n",
        "        for (size_t i = 0; i != vec.size(); ++i) {\n",
        "            elems[i] = vec[i];\n",
        "        }\n",
        "    }\n",
        "};\n",
        "\n",
        "// ----------------------------------------------\n",
        "\n",
        "template <typename E1, typename E2>\n",
        "class VecSum : public VecExpression<VecSum<E1, E2> > {\n",
        "    E1 const& _u;\n",
        "    E2 const& _v;\n",
        "\n",
        "public:\n",
        "    VecSum(E1 const& u, E2 const& v) : _u(u), _v(v) {\n",
        "        assert(u.size() == v.size());\n",
        "    }\n",
        "\n",
        "    double operator[](size_t i) const { return _u[i] + _v[i]; }\n",
        "    size_t size()               const { return _v.size(); }\n",
        "};\n",
        "\n",
        "template <typename E1, typename E2>\n",
        "VecSum<E1,E2>\n",
        "operator+(E1 const& u, E2 const& v) {\n",
        "   return VecSum<E1, E2>(u, v);\n",
        "}\n",
        "\n",
        "// ----------------------------------------------\n",
        "\n",
        "int main()\n",
        "{\n",
        "    Vec v0 = {23.4,12.5,144.56,90.56};\n",
        "    Vec v1 = {67.12,34.8,90.34,89.30};\n",
        "    Vec v2 = {34.90,111.9,45.12,90.5};    \n",
        "\n",
        "    Vec sum_of_vec_type = v0+v1+v2;\n",
        "    \n",
        "    // float x = v0+v1+v2\n",
        "\n",
        "    for(int i=0;i<sum_of_vec_type.size();++i)\n",
        "        std::cout << sum_of_vec_type[i] << std::endl;\n",
        "}"
      ]
    },
    {
      "cell_type": "code",
      "execution_count": 30,
      "metadata": {},
      "outputs": [],
      "source": [
        "!(cd tmp; g++ expr-templ.cxx -o expr-templ)\n",
        "!./tmp/expr-templ"
      ]
    },
    {
      "cell_type": "markdown",
      "metadata": {},
      "source": [
        "## Definition using `boost::proto` (I)"
      ]
    },
    {
      "cell_type": "code",
      "execution_count": 24,
      "metadata": {},
      "outputs": [],
      "source": [
        "%%writefile tmp/boost-proto.cxx\n",
        "\n",
        "#include <iostream>\n",
        "#include <boost/proto/proto.hpp>\n",
        "#include <boost/typeof/std/ostream.hpp>\n",
        "using namespace boost;\n",
        "\n",
        "proto::terminal< std::ostream & >::type cout_ = { std::cout };\n",
        "\n",
        "template< typename Expr >\n",
        "void evaluate( Expr const & expr )\n",
        "{\n",
        "    proto::default_context ctx;\n",
        "    proto::eval(expr, ctx);\n",
        "}\n",
        "\n",
        "int main()\n",
        "{\n",
        "    evaluate( cout_ << \"hello\" << ',' << \" world\" );\n",
        "    return 0;\n",
        "}\n"
      ]
    },
    {
      "cell_type": "code",
      "execution_count": 27,
      "metadata": {},
      "outputs": [],
      "source": [
        "!(cd tmp; g++ boost-proto.cxx -o boost-proto)\n",
        "!./tmp/boost-proto"
      ]
    },
    {
      "cell_type": "markdown",
      "metadata": {},
      "source": [
        "## Definition using `boost::proto` (II)"
      ]
    },
    {
      "cell_type": "code",
      "execution_count": 32,
      "metadata": {},
      "outputs": [],
      "source": [
        "%%writefile tmp/boost-proto-2.cxx\n",
        "\n",
        "#include <boost/proto/proto.hpp>\n",
        "using namespace boost;\n",
        "\n",
        "template<int I>\n",
        "struct placeholder\n",
        "{};\n",
        "\n",
        "proto::terminal<placeholder<0> >::type const _1 = {{}};\n",
        "proto::terminal<placeholder<1> >::type const _2 = {{}};\n",
        "\n",
        "int main()\n",
        "{\n",
        "    float x = (_2 - _1) / _2 * 100;\n",
        "}"
      ]
    },
    {
      "cell_type": "code",
      "execution_count": 33,
      "metadata": {},
      "outputs": [],
      "source": [
        "!(cd tmp; g++ boost-proto-2.cxx -o boost-proto-2)"
      ]
    },
    {
      "cell_type": "code",
      "execution_count": null,
      "metadata": {},
      "outputs": [],
      "source": []
    }
  ],
  "metadata": {
    "kernelspec": {
      "display_name": "Python 3",
      "language": "python",
      "name": "python3"
    },
    "language_info": {
      "codemirror_mode": {
        "name": "ipython",
        "version": 3
      },
      "file_extension": ".py",
      "mimetype": "text/x-python",
      "name": "python",
      "nbconvert_exporter": "python",
      "pygments_lexer": "ipython3",
      "version": "3.6.7"
    }
  },
  "nbformat": 4,
  "nbformat_minor": 2
}