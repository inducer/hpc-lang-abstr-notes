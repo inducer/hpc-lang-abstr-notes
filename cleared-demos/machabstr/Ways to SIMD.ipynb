{
  "cells": [
    {
      "cell_type": "markdown",
      "metadata": {},
      "source": [
        "# Ways to SIMD"
      ]
    },
    {
      "cell_type": "code",
      "execution_count": 122,
      "metadata": {},
      "outputs": [],
      "source": [
        "!rm -Rf tmp\n",
        "!mkdir -p tmp"
      ]
    },
    {
      "cell_type": "markdown",
      "metadata": {},
      "source": [
        "## Inline Assembly"
      ]
    },
    {
      "cell_type": "markdown",
      "metadata": {},
      "source": [
        "* [Documentation](https://gcc.gnu.org/onlinedocs/gcc/Extended-Asm.html)\n",
        "* [Source for \"x\" register constraint for vector registers](https://stackoverflow.com/a/32667983)"
      ]
    },
    {
      "cell_type": "code",
      "execution_count": 5,
      "metadata": {},
      "outputs": [],
      "source": [
        "%%writefile tmp/inline-assembly.c\n",
        "\n",
        "#include <x86intrin.h>\n",
        "#include <stdio.h>\n",
        "\n",
        "int main()\n",
        "{\n",
        "    float a[8] = {0, 1, 2, 3, 4, 5, 6, 7};\n",
        "    float b[8] = {7, 6, 5, 4, 3, 2, 1, 0};\n",
        "    float result[8];\n",
        "\n",
        "    __m256 avec = _mm256_loadu_ps(a);\n",
        "    __m256 bvec = _mm256_loadu_ps(b);\n",
        "    __m256 resultvec;\n",
        "    \n",
        "    asm (\"vaddps %1, %2, %0\"\n",
        "        : \"=x\" (resultvec)\n",
        "        : \"x\" (avec), \"x\" (bvec) /* \"r\" for normal registers, \"x\"\n",
        "        : /* clobbers */\n",
        "        );\n",
        "    \n",
        "    _mm256_storeu_ps(result, resultvec);\n",
        "    \n",
        "    for (int i = 0; i < 8; ++i)\n",
        "        printf(\"%f \", result[i]);\n",
        "    printf(\"\\n\");\n",
        "}"
      ]
    },
    {
      "cell_type": "code",
      "execution_count": 6,
      "metadata": {},
      "outputs": [],
      "source": [
        "!cd tmp; gcc -march=sandybridge -c -O inline-assembly.c\n",
        "!objdump --disassemble tmp/inline-assembly.o"
      ]
    },
    {
      "cell_type": "markdown",
      "metadata": {},
      "source": [
        "## Intrinsics"
      ]
    },
    {
      "cell_type": "code",
      "execution_count": 125,
      "metadata": {},
      "outputs": [],
      "source": [
        "%%writefile tmp/intrinsics.c\n",
        "\n",
        "#include <x86intrin.h>\n",
        "#include <stdio.h>\n",
        "\n",
        "int main()\n",
        "{\n",
        "    float a[8] = {0, 1, 2, 3, 4, 5, 6, 7};\n",
        "    float b[8] = {7, 6, 5, 4, 3, 2, 1, 0};\n",
        "    float result[8];\n",
        "\n",
        "    __m256 avec = _mm256_loadu_ps(a);\n",
        "    __m256 bvec = _mm256_loadu_ps(b);\n",
        "    __m256 resultvec = _mm256_add_ps(avec, bvec);    \n",
        "    _mm256_storeu_ps(result, resultvec);\n",
        "    \n",
        "    for (int i = 0; i < 8; ++i)\n",
        "        printf(\"%f \", result[i]);\n",
        "    printf(\"\\n\");\n",
        "}"
      ]
    },
    {
      "cell_type": "code",
      "execution_count": 126,
      "metadata": {},
      "outputs": [],
      "source": [
        "!cd tmp; gcc -march=sandybridge -O intrinsics.c -ointrinsics\n",
        "!./tmp/intrinsics"
      ]
    },
    {
      "cell_type": "markdown",
      "metadata": {},
      "source": [
        "## Vector types"
      ]
    },
    {
      "cell_type": "code",
      "execution_count": 129,
      "metadata": {},
      "outputs": [],
      "source": [
        "%%writefile tmp/vector-types.c\n",
        "\n",
        "#include <stdio.h>\n",
        "\n",
        "int main()\n",
        "{\n",
        "    typedef float v8f __attribute__ ((vector_size (256/8)));\n",
        "    v8f a = {0, 1, 2, 3, 4, 5, 6, 7};\n",
        "    v8f b = {7, 6, 5, 4, 3, 2, 1, 0};\n",
        "\n",
        "    v8f result = a+b+5;\n",
        "    \n",
        "    for (int i = 0; i < 8; ++i)\n",
        "        printf(\"%f \", result[i]);\n",
        "    printf(\"\\n\");\n",
        "}"
      ]
    },
    {
      "cell_type": "code",
      "execution_count": 130,
      "metadata": {},
      "outputs": [],
      "source": [
        "!cd tmp; gcc -march=sandybridge -O vector-types.c -ovector-types\n",
        "!./tmp/vector-types"
      ]
    },
    {
      "cell_type": "code",
      "execution_count": 131,
      "metadata": {},
      "outputs": [],
      "source": [
        "%%writefile tmp/vector-types.c\n",
        "\n",
        "#include <stdio.h>\n",
        "\n",
        "typedef float v8f __attribute__ ((vector_size (256/8)));\n",
        "\n",
        "v8f add_vecs(v8f a, v8f b)\n",
        "{\n",
        "    return a+b+5;\n",
        "}"
      ]
    },
    {
      "cell_type": "code",
      "execution_count": 132,
      "metadata": {},
      "outputs": [],
      "source": [
        "!cd tmp; gcc -march=sandybridge -O -c vector-types.c\n",
        "! objdump --disassemble tmp/vector-types.o"
      ]
    },
    {
      "cell_type": "code",
      "execution_count": 133,
      "metadata": {},
      "outputs": [],
      "source": [
        "%%writefile tmp/vector-types.c\n",
        "\n",
        "#include <stdio.h>\n",
        "\n",
        "typedef float v8f __attribute__ ((vector_size (256/8)));\n",
        "typedef int v8i __attribute__ ((vector_size (256/8)));\n",
        "\n",
        "v8f reverse_vec(v8f a)\n",
        "{\n",
        "    //const v8i idx = {7, 6, 5, 4, 3, 2, 1, 0};\n",
        "    const v8i idx = {3, 2, 1, 0, 7, 6, 5, 4};\n",
        "    return __builtin_shuffle(a, idx);\n",
        "}"
      ]
    },
    {
      "cell_type": "code",
      "execution_count": 134,
      "metadata": {},
      "outputs": [],
      "source": [
        "!cd tmp; gcc -march=sandybridge -O -c vector-types.c\n",
        "! objdump --disassemble tmp/vector-types.o"
      ]
    },
    {
      "cell_type": "code",
      "execution_count": 135,
      "metadata": {},
      "outputs": [],
      "source": [
        "%%writefile tmp/vector-types.c\n",
        "\n",
        "#include <stdio.h>\n",
        "\n",
        "typedef float v8f __attribute__ ((vector_size (256/8)));\n",
        "typedef int v8i __attribute__ ((vector_size (256/8)));\n",
        "\n",
        "v8f interleave(v8f a, v8f b)\n",
        "{\n",
        "    const v8i idx = {16, 15, 14, 13, 0, 1, 2, 3};\n",
        "    return __builtin_shuffle(a, b, idx);\n",
        "}"
      ]
    },
    {
      "cell_type": "code",
      "execution_count": 136,
      "metadata": {},
      "outputs": [],
      "source": [
        "!cd tmp; gcc -march=sandybridge -O -c vector-types.c\n",
        "! objdump --disassemble tmp/vector-types.o"
      ]
    },
    {
      "cell_type": "markdown",
      "metadata": {},
      "source": [
        "## #pragma simd"
      ]
    },
    {
      "cell_type": "code",
      "execution_count": 137,
      "metadata": {},
      "outputs": [],
      "source": [
        "%%writefile tmp/pragma-simd.c\n",
        "\n",
        "#include <stdio.h>\n",
        "\n",
        "typedef float vec_t[8];\n",
        "\n",
        "void add_them(vec_t a, vec_t b, vec_t result)\n",
        "{\n",
        "    #pragma GCC ivdep\n",
        "    // #pragma omp simd\n",
        "    // #pragma omp simd aligned(a, b, result:32)\n",
        "    for (int i = 0; i<8; ++i)\n",
        "        result[i] = a[i] + b[i];\n",
        "}"
      ]
    },
    {
      "cell_type": "code",
      "execution_count": 138,
      "metadata": {},
      "outputs": [],
      "source": [
        "!cd tmp; gcc -march=sandybridge -fopenmp -O -c pragma-simd.c\n",
        "#!cd tmp; gcc -march=sandybridge -fopenmp -O3 -c pragma-simd.c\n",
        "\n",
        "!objdump --disassemble tmp/pragma-simd.o"
      ]
    },
    {
      "cell_type": "markdown",
      "metadata": {},
      "source": [
        "Semantics (openMP 4.5, 2.8.1):\n",
        "\n",
        "> The `simd` construct enables the execution of multiple iterations of the associated loops\n",
        "concurrently by means of SIMD instructions.\n",
        "\n",
        "\n",
        "> A SIMD loop has logical iterations numbered 0,1,...,N-1 where N is the number of loop iterations,\n",
        "> and the logical numbering denotes the sequence in which the iterations would be executed if the\n",
        "> associated loop(s) were executed with no SIMD instructions. If the `safelen` clause is used then\n",
        "> no two iterations executed concurrently with SIMD instructions can have a greater distance in the\n",
        "> logical iteration space than its value. The parameter of the safelen clause must be a constant\n",
        "> positive integer expression. If used, the simdlen clause specifies the preferred number of\n",
        "> iterations to be executed concurrently.\n",
        "\n",
        "* What does `safelen(12)` mean?\n",
        "\n",
        "> The parameter of the `simdlen` clause must be a constant\n",
        "> positive integer. The number of iterations that are executed concurrently at any given time is\n",
        "> implementation defined. Each concurrent iteration will be executed by a different SIMD lane. Each\n",
        "> set of concurrent iterations is a SIMD chunk. Lexical forward dependencies in the iterations of the\n",
        "> original loop must be preserved within each SIMD chunk.\n",
        " \n",
        "* What does `simdlen(16)` mean?\n",
        "* How do `safelen` and `simdlen` relate to each other"
      ]
    },
    {
      "cell_type": "markdown",
      "metadata": {},
      "source": [
        "Also:\n",
        "    \n",
        "* `#pragma omp declare simd` on *functions*\n",
        "* with `inbranch`, `notinbranch`"
      ]
    },
    {
      "cell_type": "markdown",
      "metadata": {},
      "source": [
        "## Scalar Program Instances"
      ]
    },
    {
      "cell_type": "code",
      "execution_count": 120,
      "metadata": {},
      "outputs": [],
      "source": [
        "%%writefile tmp/scalar-program-instances.ispc\n",
        "\n",
        "float add_them(float a, float b)\n",
        "{\n",
        "    return a + b;\n",
        "}"
      ]
    },
    {
      "cell_type": "code",
      "execution_count": 121,
      "metadata": {},
      "outputs": [],
      "source": [
        "!cd tmp; ~/pack/ispc-v1.9.0-linux/ispc  \\\n",
        "    --target=avx2-i32x8 \\\n",
        "    --opt=force-aligned-memory \\\n",
        "    scalar-program-instances.ispc \\\n",
        "    -o scalar-program-instances.o\n",
        "! objdump --disassemble tmp/scalar-program-instances.o"
      ]
    },
    {
      "cell_type": "markdown",
      "metadata": {},
      "source": [
        "*  `uniform` and `varying`\n",
        "*  `programCount` and `programIndex`\n",
        "*  `x16` targets... why?\n",
        "*  How do you think shuffles are done?\n",
        "*  Compare this with `omp declare simd`"
      ]
    }
  ],
  "metadata": {
    "kernelspec": {
      "display_name": "Python 3",
      "language": "python",
      "name": "python3"
    },
    "language_info": {
      "codemirror_mode": {
        "name": "ipython",
        "version": 3
      },
      "file_extension": ".py",
      "mimetype": "text/x-python",
      "name": "python",
      "nbconvert_exporter": "python",
      "pygments_lexer": "ipython3",
      "version": "3.6.6"
    }
  },
  "nbformat": 4,
  "nbformat_minor": 2
}