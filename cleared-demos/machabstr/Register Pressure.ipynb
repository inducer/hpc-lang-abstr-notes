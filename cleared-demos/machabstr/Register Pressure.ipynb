{
  "cells": [
    {
      "cell_type": "markdown",
      "metadata": {},
      "source": [
        "# Register Pressure"
      ]
    },
    {
      "cell_type": "code",
      "execution_count": 1,
      "metadata": {},
      "outputs": [],
      "source": [
        "!rm -Rf tmp\n",
        "!mkdir -p tmp"
      ]
    },
    {
      "cell_type": "code",
      "execution_count": 21,
      "metadata": {},
      "outputs": [],
      "source": [
        "%%writefile tmp/pressure.c\n",
        "\n",
        "int main()\n",
        "{\n",
        "  int result = 0;\n",
        "\n",
        "  {\n",
        "    double \n",
        "      x00 = 0,\n",
        "      x01 = 3,\n",
        "      x02 = 1,\n",
        "      x03 = 5,\n",
        "      x04 = 2,\n",
        "      x05 = 8,\n",
        "      x06 = 9,\n",
        "      x07 = 11,\n",
        "      x08 = 99,\n",
        "      x09 = 111,\n",
        "      x10 = 33+0,\n",
        "      x11 = 33+3,\n",
        "      x12 = 33+1,\n",
        "      x13 = 33+5,\n",
        "      x14 = 33+2,\n",
        "      x15 = 33+8,\n",
        "      x16 = 33+9,\n",
        "      x17 = 33+11,\n",
        "      x18 = 33+99,\n",
        "      x19 = 33+111,\n",
        "      x20 = 17+0,\n",
        "      x21 = 17+3,\n",
        "      x22 = 17+1,\n",
        "      x23 = 17+5,\n",
        "      x24 = 17+2,\n",
        "      x25 = 17+8,\n",
        "      x26 = 17+9,\n",
        "      x27 = 17+11,\n",
        "      x28 = 17+99,\n",
        "      x29 = 17+111;\n",
        "\n",
        "      double a = 0;\n",
        "      for (int i = 0; i< 1000*1000; ++i)\n",
        "      {\n",
        "#define ALL (\\\n",
        "    x00 + x01 + x02 + x03 + x04 + x05 + x06 + x07 + x08 + x09 /*+ \\\n",
        "    x10 + x11 + x12 + x13 + x14 + x15 + x16 + x17 + x18 + x19 + \\\n",
        "    x20 + x21 + x22 + x23 + x24 + x25 + x26 + x27 + x28 + x29 */\\\n",
        "    )\n",
        "\n",
        "        x00 += i*ALL;\n",
        "        x01 += i*ALL;\n",
        "        x02 += i*ALL;\n",
        "        x03 += i*ALL;\n",
        "        x04 += i*ALL;\n",
        "        x05 += i*ALL;\n",
        "        x06 += i*ALL;\n",
        "        x07 += i*ALL;\n",
        "        x08 += i*ALL;\n",
        "        x09 += i*ALL;\n",
        "        /*\n",
        "        x10 += i*ALL;\n",
        "        x11 += i*ALL;\n",
        "        x12 += i*ALL;\n",
        "        x13 += i*ALL;\n",
        "        x14 += i*ALL;\n",
        "        x15 += i*ALL;\n",
        "        x16 += i*ALL;\n",
        "        x17 += i*ALL;\n",
        "        x18 += i*ALL;\n",
        "        x19 += i*ALL;\n",
        "        x20 += i*ALL;\n",
        "        x21 += i*ALL;\n",
        "        x22 += i*ALL;\n",
        "        x23 += i*ALL;\n",
        "        x24 += i*ALL;\n",
        "        x25 += i*ALL;\n",
        "        x26 += i*ALL;\n",
        "        x27 += i*ALL;\n",
        "        x28 += i*ALL;\n",
        "        x29 += i*ALL;\n",
        "        */\n",
        "      }\n",
        "      result += ALL;\n",
        "    }\n",
        "\n",
        "  return result;\n",
        "}"
      ]
    },
    {
      "cell_type": "code",
      "execution_count": 22,
      "metadata": {},
      "outputs": [],
      "source": [
        "!cd tmp; gcc -O -c pressure.c\n",
        "!objdump --disassemble tmp/pressure.o"
      ]
    },
    {
      "cell_type": "markdown",
      "metadata": {},
      "source": [
        "* Grow the working set by moving the comment markers, observe spills in the assembly listing\n",
        "* At what size of the working set do you expect to see no spills?"
      ]
    }
  ],
  "metadata": {
    "kernelspec": {
      "display_name": "Python 3",
      "language": "python",
      "name": "python3"
    },
    "language_info": {
      "codemirror_mode": {
        "name": "ipython",
        "version": 3
      },
      "file_extension": ".py",
      "mimetype": "text/x-python",
      "name": "python",
      "nbconvert_exporter": "python",
      "pygments_lexer": "ipython3",
      "version": "3.6.6"
    }
  },
  "nbformat": 4,
  "nbformat_minor": 2
}