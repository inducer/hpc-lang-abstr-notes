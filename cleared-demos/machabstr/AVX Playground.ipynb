{
  "cells": [
    {
      "cell_type": "markdown",
      "metadata": {},
      "source": [
        "# AVX Playground\n",
        "\n",
        "This notebook allows interactive experimentation with AVX instructions operating on 256-bit vectors  represented in numpy arrays.\n",
        "\n",
        "Python vector intrinsics: You saw it here first! :)"
      ]
    },
    {
      "cell_type": "code",
      "execution_count": 1,
      "metadata": {},
      "outputs": [],
      "source": [
        "import numpy as np\n",
        "import ctypes"
      ]
    },
    {
      "cell_type": "code",
      "execution_count": 3,
      "metadata": {},
      "outputs": [],
      "source": [
        "def address_from_numpy(obj):\n",
        "    ary_intf = getattr(obj, \"__array_interface__\", None)\n",
        "    if ary_intf is None:\n",
        "        raise RuntimeError(\"no array interface\")\n",
        "\n",
        "    buf_base, is_read_only = ary_intf[\"data\"]\n",
        "    return buf_base + ary_intf.get(\"offset\", 0)\n",
        "\n",
        "def cptr_from_numpy(obj):\n",
        "    return ctypes.c_void_p(address_from_numpy(obj))"
      ]
    },
    {
      "cell_type": "code",
      "execution_count": 6,
      "metadata": {},
      "outputs": [],
      "source": [
        "def make_func(operation):\n",
        "    c_code = \"\"\"\n",
        "    #include <x86intrin.h>\n",
        "    void f(float *a, float *b, float *out)\n",
        "    {{\n",
        "      __m256 avec = _mm256_loadu_ps(a);\n",
        "      __m256 bvec = _mm256_loadu_ps(b);\n",
        "      __m256 result = {operation};\n",
        "      _mm256_storeu_ps(out, result);\n",
        "    }}\n",
        "    \"\"\".format(\n",
        "        operation=operation\n",
        "        )\n",
        "    from os.path import join\n",
        "    from tempfile import mkdtemp\n",
        "    tempdir = mkdtemp()\n",
        "    \n",
        "    import subprocess\n",
        "    with open(join(tempdir, \"code.c\"), \"w\") as outf:\n",
        "        outf.write(c_code)\n",
        "\n",
        "    cc_proc = subprocess.Popen(\n",
        "        [\"gcc\", \"-march=sandybridge\", \"-shared\", join(tempdir, \"code.c\"), \"-o\", join(tempdir, \"code.so\")],\n",
        "        stdout=subprocess.PIPE, stderr=subprocess.PIPE)\n",
        "\n",
        "    cc_stdout, cc_stderr = cc_proc.communicate(timeout=4)\n",
        "    if cc_proc.returncode:\n",
        "        raise RuntimeError(\"C compiler failed. It said:\\n<pre>%s</pre>\"\n",
        "            % (cc_stdout+cc_stderr).decode())\n",
        "\n",
        "    user_dll = ctypes.CDLL(join(tempdir, \"code.so\"))\n",
        "    user_func = user_dll.f\n",
        "    user_func.argtypes = [ctypes.c_void_p, ctypes.c_void_p, ctypes.c_void_p]\n",
        "    user_func.restype = None\n",
        "    \n",
        "    def wrapper(a, b=None):\n",
        "        if b is None:\n",
        "            b = np.empty((8,), np.float32)\n",
        "            \n",
        "        assert a.dtype == np.float32\n",
        "        assert b.dtype == np.float32\n",
        "        assert a.shape == (8,)\n",
        "        assert b.shape == (8,)\n",
        "\n",
        "        result = np.empty((8,), np.float32)\n",
        "        user_func(cptr_from_numpy(a), cptr_from_numpy(b), cptr_from_numpy(result))\n",
        "        return result\n",
        "    return wrapper"
      ]
    },
    {
      "cell_type": "markdown",
      "metadata": {},
      "source": [
        "This cell uses the helper above to create the vector \"intrinsics\". For now, only a few are covered. But it's easy to add more, just by following the pattern."
      ]
    },
    {
      "cell_type": "code",
      "execution_count": 8,
      "metadata": {},
      "outputs": [],
      "source": [
        "unpackhi = make_func(\"_mm256_unpackhi_ps(avec, bvec)\")\n",
        "unpacklo = make_func(\"_mm256_unpacklo_ps(avec, bvec)\")\n",
        "\n",
        "def make_permute2(sel_lower, sel_upper):\n",
        "    imm = sel_upper << 4 | sel_lower\n",
        "    return make_func(f\"_mm256_permute2f128_ps(avec, bvec, {imm})\")\n",
        "\n",
        "permute2_02 = make_permute2(0, 2)\n",
        "permute2_13 = make_permute2(1, 3)\n",
        "permute2_12 = make_permute2(1, 2)\n",
        "permute2_21 = make_permute2(2, 1)\n",
        "\n",
        "def make_permute(sel_0, sel_1, sel_2, sel_3):\n",
        "    imm = sel_3 << 6 | sel_2 << 4 | sel_1 << 2 | sel_0\n",
        "    return make_func(f\"_mm256_permute_ps(avec, {imm})\")\n",
        "\n",
        "permute_3210 = make_permute(3, 2, 1, 0)\n",
        "permute_2301 = make_permute(2, 3, 0, 1)\n",
        "\n",
        "def make_shuffle(sel_0, sel_1, sel_2, sel_3):\n",
        "    imm = sel_3 << 6 | sel_2 << 4 | sel_1 << 2 | sel_0\n",
        "    return make_func(f\"_mm256_shuffle_ps(avec, bvec, {imm})\")\n",
        "\n",
        "shuffle_0123 = make_shuffle(0, 1, 2, 3)\n",
        "shuffle_1032 = make_shuffle(1, 0, 3, 2)\n",
        "shuffle_2301 = make_shuffle(2, 3, 0, 1)\n",
        "shuffle_0101 = make_shuffle(0, 1, 0, 1)\n",
        "shuffle_2323 = make_shuffle(2, 3, 2, 3)"
      ]
    },
    {
      "cell_type": "markdown",
      "metadata": {},
      "source": [
        "The examples below demonstrate how to use these functions:"
      ]
    },
    {
      "cell_type": "code",
      "execution_count": 9,
      "metadata": {},
      "outputs": [],
      "source": [
        "A = np.arange(8)[:, np.newaxis]*10 + np.arange(6)\n",
        "A = A.astype(np.float32)"
      ]
    },
    {
      "cell_type": "code",
      "execution_count": 10,
      "metadata": {},
      "outputs": [],
      "source": [
        "A"
      ]
    },
    {
      "cell_type": "code",
      "execution_count": 11,
      "metadata": {},
      "outputs": [],
      "source": [
        "Avec  = A.reshape(-1, 8)\n",
        "Avec"
      ]
    },
    {
      "cell_type": "code",
      "execution_count": 12,
      "metadata": {},
      "outputs": [],
      "source": [
        "permute2_12(Avec[0], Avec[1])"
      ]
    },
    {
      "cell_type": "code",
      "execution_count": 13,
      "metadata": {},
      "outputs": [],
      "source": [
        "v1 = np.empty(8, np.float32)\n",
        "v1[:] = np.arange(8)\n",
        "v2 = np.empty(8, np.float32)\n",
        "v2[:] = np.arange(8)+10\n",
        "shuffle_2301(v1, v2)"
      ]
    },
    {
      "cell_type": "code",
      "execution_count": 15,
      "metadata": {},
      "outputs": [],
      "source": [
        "A2 = np.empty(Avec.shape, A.dtype)\n",
        "A2.fill(0)\n",
        "\n",
        "A2[0] = unpacklo(Avec[0], Avec[1])\n",
        "A2[1] = unpackhi(Avec[0], Avec[1])\n",
        "\n",
        "A2"
      ]
    },
    {
      "cell_type": "code",
      "execution_count": null,
      "metadata": {},
      "outputs": [],
      "source": []
    }
  ],
  "metadata": {
    "kernelspec": {
      "display_name": "Python 3",
      "language": "python",
      "name": "python3"
    },
    "language_info": {
      "codemirror_mode": {
        "name": "ipython",
        "version": 3
      },
      "file_extension": ".py",
      "mimetype": "text/x-python",
      "name": "python",
      "nbconvert_exporter": "python",
      "pygments_lexer": "ipython3",
      "version": "3.6.6"
    }
  },
  "nbformat": 4,
  "nbformat_minor": 2
}