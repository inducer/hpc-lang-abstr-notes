{
  "cells": [
    {
      "cell_type": "markdown",
      "metadata": {},
      "source": [
        "# Pointer Aliasing"
      ]
    },
    {
      "cell_type": "code",
      "execution_count": 20,
      "metadata": {},
      "outputs": [],
      "source": [
        "!rm -Rf tmp\n",
        "!mkdir -p tmp"
      ]
    },
    {
      "cell_type": "code",
      "execution_count": 21,
      "metadata": {},
      "outputs": [],
      "source": [
        "%%writefile tmp/alias.c\n",
        "void copy_twice(float * a, float * b, int n)\n",
        "{\n",
        "  for (int i = 0; i < n; ++i)\n",
        "  {\n",
        "    b[2*i] = 2*a[i];\n",
        "    b[2*i+1] = 2*a[i];\n",
        "  }\n",
        "\n",
        "}"
      ]
    },
    {
      "cell_type": "code",
      "execution_count": 22,
      "metadata": {},
      "outputs": [],
      "source": [
        "!cd tmp; gcc -c -O alias.c\n",
        "!objdump --disassemble tmp/alias.o"
      ]
    },
    {
      "cell_type": "markdown",
      "metadata": {},
      "source": [
        "* How can we prevent the value from `a` from being reloaded?\n",
        "* What happens without the `2*`?"
      ]
    }
  ],
  "metadata": {
    "kernelspec": {
      "display_name": "Python 3",
      "language": "python",
      "name": "python3"
    },
    "language_info": {
      "codemirror_mode": {
        "name": "ipython",
        "version": 3
      },
      "file_extension": ".py",
      "mimetype": "text/x-python",
      "name": "python",
      "nbconvert_exporter": "python",
      "pygments_lexer": "ipython3",
      "version": "3.6.6"
    }
  },
  "nbformat": 4,
  "nbformat_minor": 2
}