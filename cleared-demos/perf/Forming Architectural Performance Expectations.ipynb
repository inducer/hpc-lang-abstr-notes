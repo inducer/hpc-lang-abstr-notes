{
  "cells": [
    {
      "cell_type": "markdown",
      "metadata": {},
      "source": [
        "# Forming Architectural Performance Expectations"
      ]
    },
    {
      "cell_type": "code",
      "execution_count": 1,
      "metadata": {},
      "outputs": [],
      "source": [
        "!mkdir -p tmp"
      ]
    },
    {
      "cell_type": "markdown",
      "metadata": {},
      "source": [
        "This demonstrates the [LLVM Machine Code Analyzer](https://llvm.org/docs/CommandGuide/llvm-mca.html)."
      ]
    },
    {
      "cell_type": "code",
      "execution_count": 13,
      "metadata": {},
      "outputs": [],
      "source": [
        "%%writefile tmp/transpose.c\n",
        "\n",
        "#include <x86intrin.h>\n",
        "\n",
        "// 8x8 transpose kernel stolen from\n",
        "// https://github.com/springer13/hptt/blob/e1017ef8b8ed0b6f3bb3b70df825a87f94c643e8/src/transpose.cpp#L137\n",
        "\n",
        "void execute(const float* __restrict__ A, const size_t lda, float* __restrict__ B, const size_t ldb, const float alpha ,const float beta)\n",
        "{\n",
        "   __m256 reg_alpha = _mm256_set1_ps(alpha); // do not alter the content of B\n",
        "   __m256 reg_beta = _mm256_set1_ps(beta); // do not alter the content of B\n",
        "   //Load A\n",
        "   __m256 rowA0 = _mm256_loadu_ps((A +0*lda));\n",
        "   __m256 rowA1 = _mm256_loadu_ps((A +1*lda));\n",
        "   __m256 rowA2 = _mm256_loadu_ps((A +2*lda));\n",
        "   __m256 rowA3 = _mm256_loadu_ps((A +3*lda));\n",
        "   __m256 rowA4 = _mm256_loadu_ps((A +4*lda));\n",
        "   __m256 rowA5 = _mm256_loadu_ps((A +5*lda));\n",
        "   __m256 rowA6 = _mm256_loadu_ps((A +6*lda));\n",
        "   __m256 rowA7 = _mm256_loadu_ps((A +7*lda));\n",
        "\n",
        "   //8x8 transpose micro kernel\n",
        "   __m256 r121, r139, r120, r138, r71, r89, r70, r88, r11, r1, r55, r29, r10, r0, r54, r28;\n",
        "   r28 = _mm256_unpacklo_ps( rowA4, rowA5 );\n",
        "   r54 = _mm256_unpacklo_ps( rowA6, rowA7 );\n",
        "   r0 = _mm256_unpacklo_ps( rowA0, rowA1 );\n",
        "   r10 = _mm256_unpacklo_ps( rowA2, rowA3 );\n",
        "   r29 = _mm256_unpackhi_ps( rowA4, rowA5 );\n",
        "   r55 = _mm256_unpackhi_ps( rowA6, rowA7 );\n",
        "   r1 = _mm256_unpackhi_ps( rowA0, rowA1 );\n",
        "   r11 = _mm256_unpackhi_ps( rowA2, rowA3 );\n",
        "   r88 = _mm256_shuffle_ps( r28, r54, 0x44 );\n",
        "   r70 = _mm256_shuffle_ps( r0, r10, 0x44 );\n",
        "   r89 = _mm256_shuffle_ps( r28, r54, 0xee );\n",
        "   r71 = _mm256_shuffle_ps( r0, r10, 0xee );\n",
        "   r138 = _mm256_shuffle_ps( r29, r55, 0x44 );\n",
        "   r120 = _mm256_shuffle_ps( r1, r11, 0x44 );\n",
        "   r139 = _mm256_shuffle_ps( r29, r55, 0xee );\n",
        "   r121 = _mm256_shuffle_ps( r1, r11, 0xee );\n",
        "   rowA0 = _mm256_permute2f128_ps( r88, r70, 0x2 );\n",
        "   rowA1 = _mm256_permute2f128_ps( r89, r71, 0x2 );\n",
        "   rowA2 = _mm256_permute2f128_ps( r138, r120, 0x2 );\n",
        "   rowA3 = _mm256_permute2f128_ps( r139, r121, 0x2 );\n",
        "   rowA4 = _mm256_permute2f128_ps( r88, r70, 0x13 );\n",
        "   rowA5 = _mm256_permute2f128_ps( r89, r71, 0x13 );\n",
        "   rowA6 = _mm256_permute2f128_ps( r138, r120, 0x13 );\n",
        "   rowA7 = _mm256_permute2f128_ps( r139, r121, 0x13 );\n",
        "\n",
        "  _mm256_storeu_ps((B + 0 * ldb), rowA0);\n",
        "  _mm256_storeu_ps((B + 1 * ldb), rowA1);\n",
        "  _mm256_storeu_ps((B + 2 * ldb), rowA2);\n",
        "  _mm256_storeu_ps((B + 3 * ldb), rowA3);\n",
        "  _mm256_storeu_ps((B + 4 * ldb), rowA4);\n",
        "  _mm256_storeu_ps((B + 5 * ldb), rowA5);\n",
        "  _mm256_storeu_ps((B + 6 * ldb), rowA6);\n",
        "  _mm256_storeu_ps((B + 7 * ldb), rowA7);\n",
        "}\n"
      ]
    },
    {
      "cell_type": "code",
      "execution_count": 14,
      "metadata": {},
      "outputs": [],
      "source": [
        "!clang -S -o - -march=haswell tmp/transpose.c | llvm-mca -mcpu=haswell"
      ]
    },
    {
      "cell_type": "code",
      "execution_count": null,
      "metadata": {},
      "outputs": [],
      "source": []
    }
  ],
  "metadata": {
    "kernelspec": {
      "display_name": "Python 3 (ipykernel)",
      "language": "python",
      "name": "python3"
    },
    "language_info": {
      "codemirror_mode": {
        "name": "ipython",
        "version": 3
      },
      "file_extension": ".py",
      "mimetype": "text/x-python",
      "name": "python",
      "nbconvert_exporter": "python",
      "pygments_lexer": "ipython3",
      "version": "3.13.2"
    }
  },
  "nbformat": 4,
  "nbformat_minor": 4
}