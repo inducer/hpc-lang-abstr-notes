{
  "cells": [
    {
      "cell_type": "markdown",
      "metadata": {},
      "source": [
        "# Using Performance Counters"
      ]
    },
    {
      "cell_type": "code",
      "execution_count": 1,
      "metadata": {},
      "outputs": [],
      "source": [
        "!mkdir -p tmp"
      ]
    },
    {
      "cell_type": "markdown",
      "metadata": {},
      "source": [
        "## Using `perf`\n",
        "\n",
        "A Linux tool for accessing performance counters.\n",
        "\n",
        "See also the [Wiki documentation](https://perf.wiki.kernel.org/index.php/Main_Page) for `perf`."
      ]
    },
    {
      "cell_type": "code",
      "execution_count": 2,
      "metadata": {},
      "outputs": [],
      "source": [
        "!perf list"
      ]
    },
    {
      "cell_type": "markdown",
      "metadata": {},
      "source": [
        "Examine the output of the following in a terminal:\n",
        "\n",
        "* `perf top`\n",
        "* `perf top -z`\n",
        "* `perf top -e cache-misses`\n",
        "* `perf top -e cache-misses,cycles`\n"
      ]
    },
    {
      "cell_type": "code",
      "execution_count": 3,
      "metadata": {},
      "outputs": [],
      "source": [
        "%%writefile tmp/transpose.c\n",
        "\n",
        "#include <stdio.h>\n",
        "#include <stdlib.h>\n",
        " \n",
        "int main()\n",
        "{\n",
        "    const int m = 1024;\n",
        "    const int n = 1024;\n",
        "    int *matrix = malloc(sizeof(int) * m * n);\n",
        "    int *transpose = malloc(sizeof(int) * m * n);\n",
        "    \n",
        "    for (int c = 0; c < m; c++)\n",
        "       for(int d = 0; d < n; d++)\n",
        "          matrix[c*m + d] = c+d;\n",
        "\n",
        "    for (int i = 0; i < 300; ++i)\n",
        "        for (int c = 0; c < m; c++)\n",
        "           for(int d = 0 ; d < n ; d++)\n",
        "              transpose[d*n + c] = matrix[c*m + d];\n",
        " \n",
        "    printf(\"Transpose of the matrix:\\n\");\n",
        " \n",
        "    int sum = 0;\n",
        "    for (int c = 0; c < n; c++)\n",
        "       for (int d = 0; d < m; d++)\n",
        "          sum += transpose[d*n + c];\n",
        "    printf(\"sum: %d\\n\", sum);\n",
        "\n",
        "    return 0;\n",
        "}"
      ]
    },
    {
      "cell_type": "code",
      "execution_count": 4,
      "metadata": {},
      "outputs": [],
      "source": [
        "!(cd tmp; gcc transpose.c -O3 -o transpose)\n",
        "!bash -c \"time ./tmp/transpose\""
      ]
    },
    {
      "cell_type": "code",
      "execution_count": 5,
      "metadata": {},
      "outputs": [],
      "source": [
        "!perf record -e cycles,instructions ./tmp/transpose"
      ]
    },
    {
      "cell_type": "markdown",
      "metadata": {},
      "source": [
        "* Examine `perf report` in the terminal.\n",
        "* Now retry, this time building with `-g` instead of `-O3`"
      ]
    },
    {
      "cell_type": "code",
      "execution_count": 6,
      "metadata": {},
      "outputs": [],
      "source": [
        "%%writefile tmp/matvec.py\n",
        "\n",
        "import numpy as np\n",
        "\n",
        "n = 4096\n",
        "A = np.random.randn(n, n)\n",
        "b = np.random.randn(n)\n",
        "\n",
        "for i in range(10):\n",
        "    A @ b"
      ]
    },
    {
      "cell_type": "code",
      "execution_count": 7,
      "metadata": {},
      "outputs": [],
      "source": [
        "!perf record python tmp/matvec.py"
      ]
    },
    {
      "cell_type": "code",
      "execution_count": 8,
      "metadata": {},
      "outputs": [],
      "source": [
        "%%writefile tmp/matmat.py\n",
        "\n",
        "import numpy as np\n",
        "\n",
        "n = 2048\n",
        "A = np.random.randn(n, n)\n",
        "B = np.random.randn(n, n)\n",
        "\n",
        "for i in range(10):\n",
        "    A @ B"
      ]
    },
    {
      "cell_type": "code",
      "execution_count": 9,
      "metadata": {},
      "outputs": [],
      "source": [
        "!perf record python tmp/matmat.py"
      ]
    },
    {
      "cell_type": "markdown",
      "metadata": {},
      "source": [
        "Run in shell separately:\n",
        "```\n",
        "perf record \\\n",
        "  -e cycles,L1-dcache-load-misses \\\n",
        "  -e fp_arith_inst_retired.256b_packed_double \\\n",
        "  -c 10 \\\n",
        "  python tmp/matvec.py\n",
        "```\n",
        "\n",
        "* Also try `-c 100`"
      ]
    },
    {
      "cell_type": "markdown",
      "metadata": {},
      "source": [
        "Look at:\n",
        "\n",
        "* `perf help`\n",
        "* `perf help record`\n",
        "\n",
        "Aspects to mention:\n",
        "\n",
        "* Measuring parts of a program?\n",
        "* Granularity for ratios?\n",
        "* Scope of collection\n",
        "* Call graph collection (`-g`)\n",
        "* Precise events"
      ]
    },
    {
      "cell_type": "markdown",
      "metadata": {},
      "source": [
        "## Using pmu-tools / toplev"
      ]
    },
    {
      "cell_type": "markdown",
      "metadata": {},
      "source": [
        "This uses `toplev.py` from Andi Kleen's [pmu-tools](https://github.com/andikleen/pmu-tools).\n",
        "\n",
        "* Try the command below for a few different levels.\n",
        "* Try the command below for the matvec and the matmat."
      ]
    },
    {
      "cell_type": "code",
      "execution_count": 28,
      "metadata": {},
      "outputs": [],
      "source": [
        "%%bash\n",
        "\n",
        "python2.7 ~/pack/pmu-tools/toplev.py -l3 python tmp/matvec.py"
      ]
    },
    {
      "cell_type": "markdown",
      "metadata": {},
      "source": [
        "## Using LIKWID"
      ]
    },
    {
      "cell_type": "markdown",
      "metadata": {},
      "source": [
        "Uses [pylikwid](https://github.com/RRZE-HPC/pylikwid), a wrapper around [likwid](https://github.com/RRZE-HPC/likwid), which offers an analogous [C API](https://github.com/RRZE-HPC/likwid/wiki/likwid-perfctr)."
      ]
    },
    {
      "cell_type": "code",
      "execution_count": 14,
      "metadata": {},
      "outputs": [],
      "source": [
        "!likwid-perfctr -e"
      ]
    },
    {
      "cell_type": "code",
      "execution_count": 3,
      "metadata": {},
      "outputs": [],
      "source": [
        "!likwid-perfctr -a"
      ]
    },
    {
      "cell_type": "code",
      "execution_count": 28,
      "metadata": {},
      "outputs": [],
      "source": [
        "!likwid-perfctr -H -g MEM"
      ]
    },
    {
      "cell_type": "code",
      "execution_count": 15,
      "metadata": {},
      "outputs": [],
      "source": [
        "%%writefile tmp/perfctr.py\n",
        "\n",
        "import numpy as np\n",
        "import likwid\n",
        "\n",
        "likwid.init_thread()\n",
        "likwid.init_openmp_threads()\n",
        "\n",
        "n = 2048\n",
        "\n",
        "with likwid.Region(\"generation\"):\n",
        "    A = np.random.randn(n, n)\n",
        "    b = np.random.randn(n)\n",
        "\n",
        "with likwid.Region(\"matmul\"):\n",
        "    A @ A"
      ]
    },
    {
      "cell_type": "markdown",
      "metadata": {},
      "source": [
        "Also add `-m` option below.\n",
        "\n",
        "* Advantages?\n",
        "* Disadvantages?"
      ]
    },
    {
      "cell_type": "markdown",
      "metadata": {},
      "source": [
        "Make sure the MSR access daemon is SUID root:\n",
        "\n",
        "```\n",
        "chmod u+s /usr/sbin/likwid-accessD\n",
        "```"
      ]
    },
    {
      "cell_type": "code",
      "execution_count": 18,
      "metadata": {},
      "outputs": [],
      "source": [
        "!likwid-perfctr -C S0:0-7@S1:0-7 -M 1 -g MEM python3 ./tmp/perfctr.py"
      ]
    },
    {
      "cell_type": "code",
      "execution_count": null,
      "metadata": {},
      "outputs": [],
      "source": []
    }
  ],
  "metadata": {
    "kernelspec": {
      "display_name": "Python 3",
      "language": "python",
      "name": "python3"
    },
    "language_info": {
      "codemirror_mode": {
        "name": "ipython",
        "version": 3
      },
      "file_extension": ".py",
      "mimetype": "text/x-python",
      "name": "python",
      "nbconvert_exporter": "python",
      "pygments_lexer": "ipython3",
      "version": "3.6.7"
    }
  },
  "nbformat": 4,
  "nbformat_minor": 2
}