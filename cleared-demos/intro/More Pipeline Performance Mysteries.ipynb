{
  "cells": [
    {
      "cell_type": "markdown",
      "metadata": {},
      "source": [
        "# More Pipeline Performance Mysteries"
      ]
    },
    {
      "cell_type": "markdown",
      "metadata": {},
      "source": [
        "[[Source](http://stackoverflow.com/questions/11227809/why-is-processing-a-sorted-array-faster-than-an-unsorted-array)] for this example."
      ]
    },
    {
      "cell_type": "code",
      "execution_count": 16,
      "metadata": {},
      "outputs": [],
      "source": [
        "!rm -Rf tmp\n",
        "!mkdir -p tmp"
      ]
    },
    {
      "cell_type": "code",
      "execution_count": 17,
      "metadata": {},
      "outputs": [],
      "source": [
        "%%writefile tmp/pipeline-mystery.cxx\n",
        "\n",
        "#include <algorithm>\n",
        "#include \"timing.h\"\n",
        "#include <stdio.h>\n",
        "\n",
        "int main()\n",
        "{\n",
        "  // generate data\n",
        "  const unsigned arraySize = 32768;\n",
        "  int data[arraySize];\n",
        "\n",
        "  for (unsigned c = 0; c < arraySize; ++c)\n",
        "    data[c] = std::rand() % 256;\n",
        "\n",
        "  long long sum = 0;\n",
        "\n",
        "  // test\n",
        "  timestamp_type start, stop;\n",
        "  get_timestamp(&start);\n",
        "\n",
        "  // std::sort(data, data + arraySize);\n",
        "\n",
        "  for (unsigned i = 0; i < 10000; ++i)\n",
        "  {\n",
        "    // primary loop\n",
        "    for (unsigned c = 0; c < arraySize; ++c)\n",
        "    {\n",
        "      if (data[c] >= 128)\n",
        "        sum += data[c];\n",
        "    }\n",
        "  }\n",
        "\n",
        "  get_timestamp(&stop);\n",
        "  printf(\"elapsed time: %.2f s\\n\", timestamp_diff_in_seconds(start, stop));\n",
        "  printf(\"sum: %lld\\n\", sum);\n",
        "}"
      ]
    },
    {
      "cell_type": "code",
      "execution_count": 18,
      "metadata": {},
      "outputs": [],
      "source": [
        "!cd tmp; c++ -I.. -lrt pipeline-mystery.cxx -opipeline-mystery\n",
        "!tmp/pipeline-mystery"
      ]
    },
    {
      "cell_type": "markdown",
      "metadata": {},
      "source": [
        "Now enable the sort and run the example again."
      ]
    }
  ],
  "metadata": {
    "kernelspec": {
      "display_name": "Python 3",
      "language": "python",
      "name": "python3"
    },
    "language_info": {
      "codemirror_mode": {
        "name": "ipython",
        "version": 3
      },
      "file_extension": ".py",
      "mimetype": "text/x-python",
      "name": "python",
      "nbconvert_exporter": "python",
      "pygments_lexer": "ipython3",
      "version": "3.6.6"
    }
  },
  "nbformat": 4,
  "nbformat_minor": 2
}