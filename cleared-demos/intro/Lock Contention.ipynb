{
  "cells": [
    {
      "cell_type": "markdown",
      "metadata": {},
      "source": [
        "# Lock Contention"
      ]
    },
    {
      "cell_type": "code",
      "execution_count": 1,
      "metadata": {},
      "outputs": [],
      "source": [
        "!rm -Rf tmp\n",
        "!mkdir -p tmp"
      ]
    },
    {
      "cell_type": "code",
      "execution_count": 4,
      "metadata": {},
      "outputs": [],
      "source": [
        "%%writefile tmp/lock-contention.c\n",
        "\n",
        "#include <stdio.h>\n",
        "#include <stdlib.h>\n",
        "#include <errno.h>\n",
        "#include <omp.h>\n",
        "#include <math.h>\n",
        "#include \"timing.h\"\n",
        "\n",
        "\n",
        "int main()\n",
        "{\n",
        "  const int n = 10*1024*1024/omp_get_max_threads();\n",
        "\n",
        "  /*\n",
        "  puts(\"write\");\n",
        "  for (int i = 0; i<n; ++i)\n",
        "    a[i] = i;\n",
        "    */\n",
        "\n",
        "  omp_lock_t my_lock;\n",
        "\n",
        "  omp_init_lock(&my_lock);\n",
        "\n",
        "  double x = 0;\n",
        "\n",
        "  timestamp_type t1;\n",
        "  get_timestamp(&t1);\n",
        "\n",
        "#pragma omp parallel default(none) shared(my_lock,n) reduction(+:x)\n",
        "  {\n",
        "    x = 12;\n",
        "    for (int ntrips = 0; ntrips < n; ++ntrips)\n",
        "    {\n",
        "#define DO \\\n",
        "      omp_set_lock(&my_lock); \\\n",
        "      omp_unset_lock(&my_lock);\n",
        "\n",
        "      DO DO DO DO DO     DO DO DO DO DO\n",
        "    }\n",
        "  }\n",
        "\n",
        "  timestamp_type t2;\n",
        "  get_timestamp(&t2);\n",
        "\n",
        "  double elapsed = timestamp_diff_in_seconds(t1, t2);\n",
        "  printf(\"lock cycle rate: %g per s\\n\", n*10/elapsed);\n",
        "\n",
        "  omp_destroy_lock(&my_lock);\n",
        "\n",
        "  return x;\n",
        "}\n",
        "\n",
        "\n",
        "\n",
        "\n",
        "\n",
        "\n",
        "\n",
        "\n",
        "\n",
        "        /*\n",
        "#define DO2 \\\n",
        "      x = sin(x);\n",
        "\n",
        "      DO2 DO2 DO2 DO2 DO2  DO2 DO2 DO2 DO2 DO2\n",
        "      */"
      ]
    },
    {
      "cell_type": "code",
      "execution_count": 5,
      "metadata": {},
      "outputs": [],
      "source": [
        "!cd tmp; gcc -std=gnu99 -fopenmp -lrt -I.. -olock-contention lock-contention.c"
      ]
    },
    {
      "cell_type": "code",
      "execution_count": 6,
      "metadata": {},
      "outputs": [],
      "source": [
        "!OMP_NUM_THREADS=1 ./tmp/lock-contention"
      ]
    },
    {
      "cell_type": "code",
      "execution_count": 7,
      "metadata": {},
      "outputs": [],
      "source": [
        "!OMP_NUM_THREADS=2 ./tmp/lock-contention"
      ]
    },
    {
      "cell_type": "code",
      "execution_count": 8,
      "metadata": {},
      "outputs": [],
      "source": [
        "!OMP_NUM_THREADS=3 ./tmp/lock-contention"
      ]
    },
    {
      "cell_type": "code",
      "execution_count": null,
      "metadata": {},
      "outputs": [],
      "source": []
    }
  ],
  "metadata": {
    "kernelspec": {
      "display_name": "Python 3 (ipykernel)",
      "language": "python",
      "name": "python3"
    },
    "language_info": {
      "codemirror_mode": {
        "name": "ipython",
        "version": 3
      },
      "file_extension": ".py",
      "mimetype": "text/x-python",
      "name": "python",
      "nbconvert_exporter": "python",
      "pygments_lexer": "ipython3",
      "version": "3.13.2"
    }
  },
  "nbformat": 4,
  "nbformat_minor": 4
}