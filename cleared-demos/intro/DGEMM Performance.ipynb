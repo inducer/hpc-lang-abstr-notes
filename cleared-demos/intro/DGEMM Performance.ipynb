{
  "cells": [
    {
      "cell_type": "markdown",
      "metadata": {},
      "source": [
        "# Benchmarking Matrix-Matrix Multiply (via BLAS)"
      ]
    },
    {
      "cell_type": "markdown",
      "metadata": {},
      "source": [
        "**NOTE:** One way to compare different BLAS implementations is through [conda forge](https://conda-forge.org/docs/maintainer/knowledge_base/#switching-blas-implementation).\n",
        "\n",
        "```\n",
        "conda install \"libblas=*=*openblas\"\n",
        "conda install \"libblas=*=*netlib\"\n",
        "```"
      ]
    },
    {
      "cell_type": "code",
      "execution_count": 1,
      "metadata": {},
      "outputs": [],
      "source": [
        "import os\n",
        "# For fun: try without this. Develop a theory that explains your observation.\n",
        "os.environ[\"OPENBLAS_NUM_THREADS\"] = \"1\"\n",
        "\n",
        "import numpy as np\n",
        "\n",
        "from time import process_time"
      ]
    },
    {
      "cell_type": "markdown",
      "metadata": {},
      "source": [
        "- What is `process_time`?\n",
        "- What are different [time options](https://docs.python.org/3/library/time.html) available?\n",
        "- How suitable are they to timing experiments?"
      ]
    },
    {
      "cell_type": "code",
      "execution_count": 2,
      "metadata": {},
      "outputs": [],
      "source": [
        "if 0:\n",
        "    A = np.random.randn(25, 25)\n",
        "    B = np.random.randn(25, 800000)\n",
        "else:\n",
        "    A = np.random.randn(2048, 2048)\n",
        "    B = np.random.randn(2048, 2048)"
      ]
    },
    {
      "cell_type": "code",
      "execution_count": 3,
      "metadata": {},
      "outputs": [],
      "source": [
        "start = process_time()\n",
        "A@B\n",
        "elapsed = process_time() - start\n",
        "print(elapsed)"
      ]
    },
    {
      "cell_type": "markdown",
      "metadata": {},
      "source": [
        "- What criteria would you apply to this type of measurement?\n",
        "- Was that... efficient?\n"
      ]
    },
    {
      "cell_type": "code",
      "execution_count": 4,
      "metadata": {},
      "outputs": [],
      "source": []
    },
    {
      "cell_type": "markdown",
      "metadata": {},
      "source": [
        "How would we come up with reference quantities with which to compare the attained performance?"
      ]
    },
    {
      "cell_type": "code",
      "execution_count": null,
      "metadata": {},
      "outputs": [],
      "source": []
    },
    {
      "cell_type": "markdown",
      "metadata": {},
      "source": [
        "- Try different BLAS implementations.\n",
        "- Explore the underlying technology stack. (`perf top -z` may help.)"
      ]
    },
    {
      "cell_type": "markdown",
      "metadata": {},
      "source": [
        "---\n",
        "### Point of comparison: Repeated matrix-vector multiplication\n",
        "\n",
        "Explain what you observe."
      ]
    },
    {
      "cell_type": "code",
      "execution_count": null,
      "metadata": {},
      "outputs": [],
      "source": [
        "start = process_time()\n",
        "for i in range(B.shape[1]):\n",
        "    A @ B[:,i]\n",
        "elapsed = process_time() - start\n",
        "print(elapsed)"
      ]
    },
    {
      "cell_type": "code",
      "execution_count": null,
      "metadata": {},
      "outputs": [],
      "source": []
    }
  ],
  "metadata": {
    "kernelspec": {
      "display_name": "Python 3 (ipykernel)",
      "language": "python",
      "name": "python3"
    },
    "language_info": {
      "codemirror_mode": {
        "name": "ipython",
        "version": 3
      },
      "file_extension": ".py",
      "mimetype": "text/x-python",
      "name": "python",
      "nbconvert_exporter": "python",
      "pygments_lexer": "ipython3",
      "version": "3.13.1"
    }
  },
  "nbformat": 4,
  "nbformat_minor": 4
}