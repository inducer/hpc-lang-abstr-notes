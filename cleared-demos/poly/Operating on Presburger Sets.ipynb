{
  "cells": [
    {
      "cell_type": "markdown",
      "metadata": {},
      "source": [
        "# Operating on Presburger Sets"
      ]
    },
    {
      "cell_type": "code",
      "execution_count": 13,
      "metadata": {},
      "outputs": [],
      "source": [
        "import islpy as isl\n",
        "import islplot.plotter as iplt\n",
        "import matplotlib.pyplot as plt"
      ]
    },
    {
      "cell_type": "markdown",
      "metadata": {},
      "source": [
        "## Simple sets"
      ]
    },
    {
      "cell_type": "code",
      "execution_count": 28,
      "metadata": {},
      "outputs": [],
      "source": [
        "def plot_set(s, shape=True):\n",
        "    if shape:\n",
        "        iplt.plot_set_shapes(s, color=\"blue\")\n",
        "\n",
        "    iplt.plot_set_points(s, color=\"orange\")\n",
        "    plt.xlabel(\"i\")\n",
        "    plt.ylabel(\"j\")\n",
        "    plt.gca().set_aspect(\"equal\")\n",
        "    plt.grid()"
      ]
    },
    {
      "cell_type": "code",
      "execution_count": 29,
      "metadata": {},
      "outputs": [],
      "source": [
        "s = isl.Set(\"{[i,j]: 2*i + 3*j <= 17 and i - j >= 0 and j >= 0}\")\n",
        "\n",
        "plot_set(s)"
      ]
    },
    {
      "cell_type": "code",
      "execution_count": 30,
      "metadata": {},
      "outputs": [],
      "source": [
        "s = isl.Set(\"{[i,j]: 2*i + 3*j <= 17 and i - j >= 0 and j >= 0 and i mod 2 =0}\")\n",
        "\n",
        "plot_set(s, shape=False)"
      ]
    },
    {
      "cell_type": "code",
      "execution_count": 34,
      "metadata": {},
      "outputs": [],
      "source": [
        "s = isl.Set(\"{[i,j]: 2*i + 3*j <= 17 and i - j >= 0 and j >= 0 and exists k: 2*k=j}\")\n",
        "\n",
        "plot_set(s, shape=False)"
      ]
    },
    {
      "cell_type": "code",
      "execution_count": 47,
      "metadata": {},
      "outputs": [],
      "source": [
        "s0 = isl.Set(\"{[i,j]: 0<=i,j<17}\")\n",
        "iplt.plot_set_points(s0, color=\"blue\")\n",
        "\n",
        "s = s0 & isl.Set(\"{[i,j]: exists l: 3*i+2*j=6*l and j<5+i}\")\n",
        "plot_set(s, shape=False)"
      ]
    },
    {
      "cell_type": "markdown",
      "metadata": {},
      "source": [
        "## Going Parametric"
      ]
    },
    {
      "cell_type": "code",
      "execution_count": 76,
      "metadata": {},
      "outputs": [],
      "source": [
        "s = isl.Set(\"[n] -> {[i,j]: 0<=i,j<17}\")\n",
        "print(s)"
      ]
    },
    {
      "cell_type": "markdown",
      "metadata": {},
      "source": [
        "Note:\n",
        "\n",
        "- Just adds a dimension (that's labeled as a parameter)\n",
        "- All operations shown here just keep working\n",
        "- (But: hard to plot)"
      ]
    },
    {
      "cell_type": "markdown",
      "metadata": {},
      "source": [
        "## Representing Maps"
      ]
    },
    {
      "cell_type": "code",
      "execution_count": 99,
      "metadata": {},
      "outputs": [],
      "source": [
        "iplt.plot_set_points(isl.Set(\"{[x,y]: 0 < x = y <= 9}\"))\n",
        "m1 = isl.Map(\"{[2,8] -> [x,y]: 1 < x = y < 9}\")\n",
        "m2 = isl.Map(\"{[8,2] -> [x,y]: 1 < x = y < 9}\")\n",
        "iplt.plot_map(m1)\n",
        "#iplt.plot_map(m1.reverse())\n",
        "iplt.plot_map(m2, color=\"orange\")\n",
        "#iplt.plot_set_points(m1.domain())\n",
        "#iplt.plot_set_points(m1.range(), color=\"blue\")\n",
        "\n",
        "# iplt.plot_map(m1.apply_range(m2.reverse()))"
      ]
    },
    {
      "cell_type": "markdown",
      "metadata": {},
      "source": [
        "Note:\n",
        "\n",
        "- Just adds a dimension (that's labeled as an input)\n",
        "- Can also be parametric"
      ]
    },
    {
      "cell_type": "markdown",
      "metadata": {},
      "source": [
        "## Set Operations"
      ]
    },
    {
      "cell_type": "code",
      "execution_count": 103,
      "metadata": {},
      "outputs": [],
      "source": [
        "s0 = isl.Set(\"{[i,j]: 0<=i,j<17}\")\n",
        "s = s0 & isl.Set(\"{[i,j]: exists l: 3*i+2*j=6*l and j<5+i}\")\n",
        "plot_set(s, shape=False)\n",
        "\n",
        "s.project_out(isl.dim_type.out, 1, 1)"
      ]
    },
    {
      "cell_type": "code",
      "execution_count": 100,
      "metadata": {},
      "outputs": [],
      "source": [
        "s1 = isl.Set(\"{ [x, y] : x >= 1 and x <= 5 and y >= 1 and y <= 5 }\")\n",
        "plot_set(s1)"
      ]
    },
    {
      "cell_type": "code",
      "execution_count": 57,
      "metadata": {},
      "outputs": [],
      "source": [
        "s2 = isl.Set(\"{ [x, y] : x >= 0 and x <= 4 and y >= 0 and y <= 3 + x }\")\n",
        "plot_set(s2)"
      ]
    },
    {
      "cell_type": "code",
      "execution_count": 58,
      "metadata": {},
      "outputs": [],
      "source": [
        "plot_set(s1 & s2)"
      ]
    },
    {
      "cell_type": "code",
      "execution_count": 60,
      "metadata": {},
      "outputs": [],
      "source": [
        "plot_set(s2 & s1.complement())"
      ]
    },
    {
      "cell_type": "code",
      "execution_count": 65,
      "metadata": {},
      "outputs": [],
      "source": [
        "s0 = isl.Set(\"{[i,j]: 0<=i,j<17}\")\n",
        "s = s0 & isl.Set(\"{[i,j]: exists l: 3*i+2*j=6*l and j<5+i}\")\n",
        "\n",
        "plot_set(s, shape=False)\n",
        "s.dim_max(1)"
      ]
    },
    {
      "cell_type": "code",
      "execution_count": 70,
      "metadata": {},
      "outputs": [],
      "source": [
        "sp = s.move_dims(isl.dim_type.param, 0, isl.dim_type.out, 0, 1)\n",
        "print(sp)\n",
        "sp.dim_max(0)"
      ]
    },
    {
      "cell_type": "markdown",
      "metadata": {},
      "source": [
        "*Note:*\n",
        "    \n",
        "- Result is piecewise quasi-affine expression, allows `pwaff1.le_set(pwaff2)`"
      ]
    },
    {
      "cell_type": "code",
      "execution_count": 75,
      "metadata": {},
      "outputs": [],
      "source": [
        "s = isl.Set(\"{S[x,y]: 0 < x < 8 and 0 < y + x < 5}\")\n",
        "\n",
        "print(s.lexmax())\n",
        "iplt.plot_set_points(s)"
      ]
    },
    {
      "cell_type": "markdown",
      "metadata": {},
      "source": [
        "## Other things to try\n",
        "\n",
        "- Explore the data structure\n",
        "- Emptiness checks, subset queries\n",
        "- `gist`\n",
        "- Convex hull\n",
        "- Coalescing"
      ]
    },
    {
      "cell_type": "code",
      "execution_count": null,
      "metadata": {},
      "outputs": [],
      "source": []
    }
  ],
  "metadata": {
    "kernelspec": {
      "display_name": "Python 3",
      "language": "python",
      "name": "python3"
    },
    "language_info": {
      "codemirror_mode": {
        "name": "ipython",
        "version": 3
      },
      "file_extension": ".py",
      "mimetype": "text/x-python",
      "name": "python",
      "nbconvert_exporter": "python",
      "pygments_lexer": "ipython3",
      "version": "3.6.7"
    }
  },
  "nbformat": 4,
  "nbformat_minor": 2
}