{
  "cells": [
    {
      "cell_type": "markdown",
      "metadata": {},
      "source": [
        "# Diamond Tiling\n",
        "\n",
        "A scheduling technique for stencil codes."
      ]
    },
    {
      "cell_type": "code",
      "execution_count": 39,
      "metadata": {},
      "outputs": [],
      "source": [
        "import islpy as isl\n",
        "dim_type = isl.dim_type\n",
        "import islplot.plotter as iplt\n",
        "import matplotlib.pyplot as plt"
      ]
    },
    {
      "cell_type": "code",
      "execution_count": 40,
      "metadata": {},
      "outputs": [],
      "source": [
        "def plot_set(s, shape_color=\"blue\", point_color=\"orange\"):\n",
        "    if shape_color is not None:\n",
        "        iplt.plot_set_shapes(s, color=shape_color)\n",
        "\n",
        "    if point_color is not None:\n",
        "        iplt.plot_set_points(s, color=point_color)\n",
        "    plt.xlabel(\"i\")\n",
        "    plt.ylabel(\"j\")\n",
        "    plt.gca().set_aspect(\"equal\")\n",
        "    plt.grid()"
      ]
    },
    {
      "cell_type": "markdown",
      "metadata": {},
      "source": [
        "### Loop Domain"
      ]
    },
    {
      "cell_type": "code",
      "execution_count": 41,
      "metadata": {},
      "outputs": [],
      "source": [
        "d = isl.BasicSet(\"[nx,nt] -> {[ix, it]: 0<=ix<nx and 0<=it<nt and nx = 43}\")\n",
        "d"
      ]
    },
    {
      "cell_type": "markdown",
      "metadata": {},
      "source": [
        "### Index -> Tile Index Map"
      ]
    },
    {
      "cell_type": "code",
      "execution_count": 42,
      "metadata": {},
      "outputs": [],
      "source": [
        "m = isl.BasicMap(\"[nx,nt] -> \"\n",
        "                 \"{[ix, it] -> [tx, tt, parity]: \"\n",
        "                 \"tx - tt = floor((ix - it)/16) and \"\n",
        "                 \"tx+(tt+parity) = floor((ix + it)/16) and 0<=parity<2}\")\n",
        "m"
      ]
    },
    {
      "cell_type": "code",
      "execution_count": 43,
      "metadata": {},
      "outputs": [],
      "source": [
        "plt.figure(figsize=(12, 8))\n",
        "\n",
        "for color, parity in [\n",
        "        (\"blue\", 0),\n",
        "        (\"orange\", 1),\n",
        "        ]:\n",
        "    tilerange = isl.BasicMap(\"[nx,nt] -> {[ix, it] -> [tx, tt,parity]: tx<3 and tt<3 and parity=%d}\" % parity)\n",
        "    plot_dom = (m.intersect_domain(d) & tilerange).domain()\n",
        "    plot_set(plot_dom.project_out(dim_type.param, 0, 2), shape_color=None, point_color=color)"
      ]
    },
    {
      "cell_type": "markdown",
      "metadata": {},
      "source": [
        "This is how you can find the values of `(tx, tt, parity)` for a point in the loop domain:"
      ]
    },
    {
      "cell_type": "code",
      "execution_count": 44,
      "metadata": {},
      "outputs": [],
      "source": [
        "point = isl.BasicMap(\"[nx,nt] -> {[ix, it] -> [tx, tt, parity]: ix = 0 and it = 17}\")\n",
        "m & point"
      ]
    },
    {
      "cell_type": "markdown",
      "metadata": {},
      "source": [
        "We'd expect `m` to be a function, but not injective (each tile contains multiple points):"
      ]
    },
    {
      "cell_type": "code",
      "execution_count": 45,
      "metadata": {},
      "outputs": [],
      "source": [
        "m.is_single_valued()"
      ]
    },
    {
      "cell_type": "code",
      "execution_count": 46,
      "metadata": {},
      "outputs": [],
      "source": [
        "m.is_injective()"
      ]
    },
    {
      "cell_type": "markdown",
      "metadata": {},
      "source": [
        "### Index -> Tile index, intra-tile index map\n",
        "\n",
        "We'll now work to make the mapping bijective, i.e. establish a point-to-point mapping that we can use to rewrite the loop domain:"
      ]
    },
    {
      "cell_type": "code",
      "execution_count": 47,
      "metadata": {},
      "outputs": [],
      "source": [
        "m = isl.BasicMap(\n",
        "    \"[nx,nt] -> {[ix, it] -> [tx, tt, tparity, itt, itx]: \"\n",
        "    \"16*(tx - tt) + itx - itt = ix - it and \"\n",
        "    \"16*(tx + tt + tparity) + itt + itx = ix + it and \"\n",
        "    \"0<=tparity<2 and 0 <= itx - itt < 16 and 0 <= itt+itx < 16}\")\n",
        "m"
      ]
    },
    {
      "cell_type": "code",
      "execution_count": 48,
      "metadata": {},
      "outputs": [],
      "source": [
        "m.is_bijective()"
      ]
    },
    {
      "cell_type": "code",
      "execution_count": 49,
      "metadata": {},
      "outputs": [],
      "source": [
        "plt.figure(figsize=(12, 8))\n",
        "\n",
        "for color, parity in [\n",
        "        (\"blue\", 0),\n",
        "        (\"orange\", 1),\n",
        "        ]:\n",
        "    tilerange = isl.BasicMap(\"[nx,nt] -> {[ix, it] -> [tx, tt, tparity, itt, itx]: tx<3 and tt<3 and tparity=%d}\" % parity)\n",
        "    plot_dom = (\n",
        "        m.intersect_domain(d)\n",
        "        & tilerange).domain()\n",
        "    plot_set(plot_dom.project_out(dim_type.param, 0, 2), shape_color=None, point_color=color)"
      ]
    },
    {
      "cell_type": "code",
      "execution_count": 50,
      "metadata": {},
      "outputs": [],
      "source": [
        "point = isl.BasicMap(\"[nx,nt] -> {[ix, it] -> [tx, tt, tparity, itx, itt]: ix = 0 and it = 16}\")\n",
        "m & point"
      ]
    },
    {
      "cell_type": "code",
      "execution_count": 51,
      "metadata": {},
      "outputs": [],
      "source": [
        "m.project_out(dim_type.in_, 0, 1)"
      ]
    },
    {
      "cell_type": "code",
      "execution_count": 52,
      "metadata": {},
      "outputs": [],
      "source": [
        "m"
      ]
    },
    {
      "cell_type": "code",
      "execution_count": 53,
      "metadata": {},
      "outputs": [],
      "source": [
        "tile = isl.BasicMap(\"[nx,nt] -> {[ix, it] -> [tx, tt, tparity, itx, itt]: tt = 1 and tx = 1 and tparity = 0}\")\n",
        "plot_tile = (m & tile).range().project_out(dim_type.set, 0, 3).project_out(dim_type.param, 0, 2)\n",
        "plot_tile\n",
        "plot_set(plot_tile, shape_color=None)"
      ]
    },
    {
      "cell_type": "markdown",
      "metadata": {},
      "source": [
        "What's next from here? [Hexagonal tiles](https://lirias.kuleuven.be/retrieve/268015) are a popular option that improves utilization at the \"top\" and \"bottom\" of the diamonds."
      ]
    },
    {
      "cell_type": "code",
      "execution_count": null,
      "metadata": {},
      "outputs": [],
      "source": []
    }
  ],
  "metadata": {
    "kernelspec": {
      "display_name": "Python 3",
      "language": "python",
      "name": "python3"
    },
    "language_info": {
      "codemirror_mode": {
        "name": "ipython",
        "version": 3
      },
      "file_extension": ".py",
      "mimetype": "text/x-python",
      "name": "python",
      "nbconvert_exporter": "python",
      "pygments_lexer": "ipython3",
      "version": "3.7.5"
    }
  },
  "nbformat": 4,
  "nbformat_minor": 4
}